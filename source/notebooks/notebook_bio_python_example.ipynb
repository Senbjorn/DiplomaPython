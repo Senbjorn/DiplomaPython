{
 "cells": [
  {
   "cell_type": "code",
   "execution_count": 1,
   "metadata": {},
   "outputs": [],
   "source": [
    "import numpy as np\n",
    "import matplotlib.pyplot as plt\n",
    "import pandas as pd\n",
    "import re\n",
    "import os\n",
    "\n",
    "from pathlib import Path\n",
    "\n",
    "from Bio import SeqIO\n",
    "from Bio.Seq import Seq\n",
    "\n",
    "from core.utils import process_benchmark_sequence, extract_sequences\n",
    "import project\n",
    "project.setup()"
   ]
  },
  {
   "cell_type": "code",
   "execution_count": 2,
   "metadata": {},
   "outputs": [],
   "source": [
    "# Benchmark paths\n",
    "pp_benchmark_dir = Path('/home/semyon/mipt/GPCR-TEAM/pp_benchmark_v5')\n",
    "pp_benchmark_structures = pp_benchmark_dir / 'benchmark5' / 'structures'\n",
    "pp_benchmark_table_path = pp_benchmark_dir / 'Table_BM5.xlsx'"
   ]
  },
  {
   "cell_type": "code",
   "execution_count": null,
   "metadata": {},
   "outputs": [],
   "source": [
    "benchmark_table = "
   ]
  },
  {
   "cell_type": "code",
   "execution_count": 3,
   "metadata": {},
   "outputs": [],
   "source": [
    "# sequence_list = extract_sequences(pp_benchmark_structures / \"1E6J_l_b.pdb\")"
   ]
  },
  {
   "cell_type": "code",
   "execution_count": 6,
   "metadata": {},
   "outputs": [
    {
     "output_type": "stream",
     "name": "stdout",
     "text": "ID: 1E6J_l_b_P\nName: 1E6J_l_b_P\nDescription: Chain P from 1E6J_l_b.\nNumber of features: 0\n/Structure ID=1E6J_l_b\n/Chain ID=P\nSeq('VHQAISPRTLNAWVKVVEEKAFSPEVIPMFSALSEGATPQDLNTMLNTVGGHQA...CQG', ProteinAlphabet())\n"
    }
   ],
   "source": []
  },
  {
   "cell_type": "code",
   "execution_count": 7,
   "metadata": {},
   "outputs": [
    {
     "output_type": "execute_result",
     "data": {
      "text/plain": "'pp_benchmark_v5'"
     },
     "metadata": {},
     "execution_count": 7
    }
   ],
   "source": [
    "pp_benchmark_dir.parts[-1]"
   ]
  },
  {
   "cell_type": "code",
   "execution_count": 10,
   "metadata": {},
   "outputs": [
    {
     "output_type": "execute_result",
     "data": {
      "text/plain": "{'name': '',\n 'head': '',\n 'deposition_date': '1909-01-08',\n 'release_date': '1909-01-08',\n 'structure_method': 'unknown',\n 'resolution': 0.0,\n 'structure_reference': [],\n 'journal_reference': '',\n 'author': '',\n 'compound': {'1': {'misc': ''}},\n 'source': {'1': {'misc': ''}},\n 'model': 0,\n 'chain': 'P',\n 'start': 11,\n 'end': 220}"
     },
     "metadata": {},
     "execution_count": 10
    }
   ],
   "source": [
    "record.annotations"
   ]
  },
  {
   "cell_type": "code",
   "execution_count": 11,
   "metadata": {},
   "outputs": [
    {
     "output_type": "execute_result",
     "data": {
      "text/plain": "[]"
     },
     "metadata": {},
     "execution_count": 11
    }
   ],
   "source": [
    "record.features"
   ]
  },
  {
   "cell_type": "code",
   "execution_count": 20,
   "metadata": {},
   "outputs": [
    {
     "output_type": "stream",
     "name": "stdout",
     "text": "alphabet\nback_transcribe\ncomplement\ncount\ncount_overlap\nendswith\nfind\nlower\nlstrip\nreverse_complement\nrfind\nrsplit\nrstrip\nsplit\nstartswith\nstrip\ntomutable\ntostring\ntranscribe\ntranslate\nungap\nupper\n"
    }
   ],
   "source": [
    "\n",
    "print(*filter(lambda x: x[0] != '_', dir(record.seq)), sep='\\n')"
   ]
  },
  {
   "cell_type": "code",
   "execution_count": null,
   "metadata": {},
   "outputs": [],
   "source": []
  }
 ],
 "metadata": {
  "kernelspec": {
   "name": "python36764bit17454a3f029f4876ac11684956a10882",
   "display_name": "Python 3.6.7 64-bit"
  }
 },
 "nbformat": 4,
 "nbformat_minor": 2
}