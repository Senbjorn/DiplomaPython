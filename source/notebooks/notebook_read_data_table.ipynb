{
 "cells": [
  {
   "cell_type": "code",
   "execution_count": 1,
   "metadata": {},
   "outputs": [],
   "source": [
    "from pathlib import Path\n",
    "\n",
    "from core.utils import read_benchmark_table\n",
    "\n",
    "import project\n",
    "project.setup()"
   ]
  },
  {
   "cell_type": "code",
   "execution_count": 2,
   "metadata": {},
   "outputs": [],
   "source": [
    "# Benchmark paths\n",
    "pp_benchmark_dir = Path('/home/semyon/mipt/GPCR-TEAM/pp_benchmark_v5')\n",
    "pp_benchmark_structures = pp_benchmark_dir / 'benchmark5' / 'structures'\n",
    "pp_benchmark_table_path = pp_benchmark_dir / 'Table_BM5.xlsx'"
   ]
  },
  {
   "cell_type": "code",
   "execution_count": 3,
   "metadata": {},
   "outputs": [
    {
     "output_type": "execute_result",
     "data": {
      "text/plain": "1         Cat. PDB ID 1    Protein 1 PDB ID 2                 Protein 2  \\\nComplex                                                                   \n1AHW_AB:C    A  1FGN_LH      Fab 5g9   1TFH_A             Tissue factor   \n1BVK_DE:F    A  1BVL_BA   Fv Hulys11    3LZT_              HEW lysozyme   \n1DQJ_AB:C    A  1DQQ_CD  Fab Hyhel63    3LZT_              HEW lysozyme   \n1E6J_HL:P    A  1E6O_HL          Fab    1A43_  HIV-1 capsid protein p24   \n1JPS_HL:T    A  1JPT_HL    Fab D3H44   1TFH_B             Tissue factor   \n\n1         I-RMSD (Å) ΔASA(Å2) BM version introduced  Difficulty Complex ID  \\\nComplex                                                                      \n1AHW_AB:C       0.69     1899                     2  Rigid-body       1AHW   \n1BVK_DE:F       1.24     1321                     2  Rigid-body       1BVK   \n1DQJ_AB:C       0.75     1765                     2  Rigid-body       1DQJ   \n1E6J_HL:P       1.05     1245                     2  Rigid-body       1E6J   \n1JPS_HL:T       0.51     1852                     2  Rigid-body       1JPS   \n\n1         Chains Bound 1 Chains Bound 2 Chains Unbound 1 Chains Unbound 2  \nComplex                                                                    \n1AHW_AB:C             AB              C               LH                A  \n1BVK_DE:F             DE              F               BA                   \n1DQJ_AB:C             AB              C               CD                   \n1E6J_HL:P             HL              P               HL                   \n1JPS_HL:T             HL              T               HL                B  ",
      "text/html": "<div>\n<style scoped>\n    .dataframe tbody tr th:only-of-type {\n        vertical-align: middle;\n    }\n\n    .dataframe tbody tr th {\n        vertical-align: top;\n    }\n\n    .dataframe thead th {\n        text-align: right;\n    }\n</style>\n<table border=\"1\" class=\"dataframe\">\n  <thead>\n    <tr style=\"text-align: right;\">\n      <th>1</th>\n      <th>Cat.</th>\n      <th>PDB ID 1</th>\n      <th>Protein 1</th>\n      <th>PDB ID 2</th>\n      <th>Protein 2</th>\n      <th>I-RMSD (Å)</th>\n      <th>ΔASA(Å2)</th>\n      <th>BM version introduced</th>\n      <th>Difficulty</th>\n      <th>Complex ID</th>\n      <th>Chains Bound 1</th>\n      <th>Chains Bound 2</th>\n      <th>Chains Unbound 1</th>\n      <th>Chains Unbound 2</th>\n    </tr>\n    <tr>\n      <th>Complex</th>\n      <th></th>\n      <th></th>\n      <th></th>\n      <th></th>\n      <th></th>\n      <th></th>\n      <th></th>\n      <th></th>\n      <th></th>\n      <th></th>\n      <th></th>\n      <th></th>\n      <th></th>\n      <th></th>\n    </tr>\n  </thead>\n  <tbody>\n    <tr>\n      <th>1AHW_AB:C</th>\n      <td>A</td>\n      <td>1FGN_LH</td>\n      <td>Fab 5g9</td>\n      <td>1TFH_A</td>\n      <td>Tissue factor</td>\n      <td>0.69</td>\n      <td>1899</td>\n      <td>2</td>\n      <td>Rigid-body</td>\n      <td>1AHW</td>\n      <td>AB</td>\n      <td>C</td>\n      <td>LH</td>\n      <td>A</td>\n    </tr>\n    <tr>\n      <th>1BVK_DE:F</th>\n      <td>A</td>\n      <td>1BVL_BA</td>\n      <td>Fv Hulys11</td>\n      <td>3LZT_</td>\n      <td>HEW lysozyme</td>\n      <td>1.24</td>\n      <td>1321</td>\n      <td>2</td>\n      <td>Rigid-body</td>\n      <td>1BVK</td>\n      <td>DE</td>\n      <td>F</td>\n      <td>BA</td>\n      <td></td>\n    </tr>\n    <tr>\n      <th>1DQJ_AB:C</th>\n      <td>A</td>\n      <td>1DQQ_CD</td>\n      <td>Fab Hyhel63</td>\n      <td>3LZT_</td>\n      <td>HEW lysozyme</td>\n      <td>0.75</td>\n      <td>1765</td>\n      <td>2</td>\n      <td>Rigid-body</td>\n      <td>1DQJ</td>\n      <td>AB</td>\n      <td>C</td>\n      <td>CD</td>\n      <td></td>\n    </tr>\n    <tr>\n      <th>1E6J_HL:P</th>\n      <td>A</td>\n      <td>1E6O_HL</td>\n      <td>Fab</td>\n      <td>1A43_</td>\n      <td>HIV-1 capsid protein p24</td>\n      <td>1.05</td>\n      <td>1245</td>\n      <td>2</td>\n      <td>Rigid-body</td>\n      <td>1E6J</td>\n      <td>HL</td>\n      <td>P</td>\n      <td>HL</td>\n      <td></td>\n    </tr>\n    <tr>\n      <th>1JPS_HL:T</th>\n      <td>A</td>\n      <td>1JPT_HL</td>\n      <td>Fab D3H44</td>\n      <td>1TFH_B</td>\n      <td>Tissue factor</td>\n      <td>0.51</td>\n      <td>1852</td>\n      <td>2</td>\n      <td>Rigid-body</td>\n      <td>1JPS</td>\n      <td>HL</td>\n      <td>T</td>\n      <td>HL</td>\n      <td>B</td>\n    </tr>\n  </tbody>\n</table>\n</div>"
     },
     "metadata": {},
     "execution_count": 3
    }
   ],
   "source": [
    "benchmark_table = read_benchmark_table(pp_benchmark_table_path, drop_strange=True)\n",
    "benchmark_table.head()"
   ]
  },
  {
   "cell_type": "code",
   "execution_count": 4,
   "metadata": {},
   "outputs": [
    {
     "output_type": "stream",
     "name": "stdout",
     "text": "1BVK_DE:F -- 2 -- F | \n1DQJ_AB:C -- 2 -- C | \n1E6J_HL:P -- 2 -- P | \n1MLC_AB:E -- 2 -- E | \n1VFB_AB:C -- 2 -- C | \n1WEJ_HL:F -- 2 -- F | \n1FSK_BC:A -- 2 -- A | \n1KXQ_H:A -- 2 -- A | \n1NCA_HL:N -- 2 -- N | \n1NSN_HL:S -- 2 -- S | \n2JEL_HL:P -- 2 -- P | \n1BUH_A:B -- 1 -- A | \n1BVN_P:T -- 1 -- P | \n1BVN_P:T -- 2 -- T | \n1D6R_A:I -- 1 -- A | \n1DFJ_E:I -- 2 -- I | \n1EAW_A:B -- 2 -- B | \n1F34_A:B -- 1 -- A | \n1GL1_A:I -- 1 -- A | \n1HIA_AB:I -- 2 -- I | \n1MAH_A:F -- 2 -- F | \n1PPE_E:I -- 1 -- E | \n1TMQ_A:B -- 1 -- A | \n1UDI_E:I -- 1 -- E | \n2PCC_A:B -- 1 -- A | \n2PCC_A:B -- 2 -- B | \n2SIC_E:I -- 1 -- E | \n2SIC_E:I -- 2 -- I | \n1AK4_A:D -- 1 -- A | \n1E96_A:B -- 1 -- A | \n1GHQ_A:B -- 1 -- A | \n1HE1_C:A -- 1 -- C | \n1I4D_D:AB -- 1 -- D | \n1KLU_AB:D -- 2 -- D | \n1KTZ_A:B -- 1 -- A | \n1ML0_AB:D -- 2 -- D | \n1QA9_A:B -- 1 -- A | \n1RLB_ABCD:E -- 2 -- E | \n1SBB_A:B -- 1 -- A | \n1SBB_A:B -- 2 -- B | \n2BTF_A:P -- 2 -- P | \n1CGI_E:I -- 2 -- I | \n1IJK_A:BC -- 1 -- A | \n1KKL_ABC:H -- 2 -- H | \n1M10_A:B -- 1 -- A | \n2NZ8_A:B -- 1 -- A | \n1GP2_A:BG -- 1 -- A | \n1GRN_A:B -- 2 -- B | \n1HE8_B:A -- 1 -- B | \n1WQ1_R:G -- 2 -- G | \n2H7V_A:C -- 1 -- A | \n1ACB_E:I -- 2 -- I | \n1ATN_A:D -- 2 -- D | \n1IRA_Y:X -- 2 -- X | \n"
    }
   ],
   "source": [
    "exception_ids = []\n",
    "for row in benchmark_table.iterrows():\n",
    "    idx, value = row\n",
    "    b_1 = value['Chains Bound 1']\n",
    "    u_1 = value['Chains Unbound 1']\n",
    "    b_2 = value['Chains Bound 2']\n",
    "    u_2 = value['Chains Unbound 2']\n",
    "    try:\n",
    "        if len(b_1) != len(u_1):\n",
    "            print(f'{idx} -- 1 -- {b_1} | {u_1}')\n",
    "        if len(b_2) != len(u_2):\n",
    "            print(f'{idx} -- 2 -- {b_2} | {u_2}')\n",
    "    except Exception:\n",
    "        exception_ids.append(idx)"
   ]
  },
  {
   "cell_type": "code",
   "execution_count": 5,
   "metadata": {},
   "outputs": [
    {
     "output_type": "execute_result",
     "data": {
      "text/plain": "[]"
     },
     "metadata": {},
     "execution_count": 5
    }
   ],
   "source": [
    "exception_ids"
   ]
  },
  {
   "cell_type": "code",
   "execution_count": null,
   "metadata": {},
   "outputs": [],
   "source": []
  }
 ],
 "metadata": {
  "kernelspec": {
   "name": "python36764bit17454a3f029f4876ac11684956a10882",
   "display_name": "Python 3.6.7 64-bit"
  }
 },
 "nbformat": 4,
 "nbformat_minor": 2
}