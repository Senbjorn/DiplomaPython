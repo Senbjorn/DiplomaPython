{
 "cells": [
  {
   "cell_type": "code",
   "execution_count": 1,
   "metadata": {},
   "outputs": [],
   "source": [
    "# Basic imports\n",
    "import numpy as np\n",
    "import pandas as pd\n",
    "from pathlib import Path\n",
    "\n",
    "# OpenMM\n",
    "import simtk.openmm as omm\n",
    "import simtk.openmm.app as app\n",
    "from simtk.unit import *\n",
    "\n",
    "# ProDy\n",
    "import prody as pdy\n",
    "\n",
    "# Bio\n",
    "from Bio import SeqIO\n",
    "from Bio.Seq import Seq\n",
    "from Bio.PDB.PDBParser import PDBParser\n",
    "from Bio.PDB.Polypeptide import PPBuilder\n",
    "\n",
    "# Project\n",
    "import project\n",
    "project.setup()\n",
    "\n",
    "# Utils\n",
    "from core.utils import read_benchmark_table, get_structure_paths"
   ]
  },
  {
   "cell_type": "code",
   "execution_count": 2,
   "metadata": {},
   "outputs": [],
   "source": [
    "# Benchmark paths\n",
    "pp_benchmark_dir = Path('/home/semyon/mipt/GPCR-TEAM/pp_benchmark_v5')\n",
    "pp_benchmark_structures = pp_benchmark_dir / 'benchmark5' / 'structures'\n",
    "pp_benchmark_table_path = pp_benchmark_dir / 'Table_BM5.xlsx'"
   ]
  },
  {
   "cell_type": "code",
   "execution_count": 3,
   "metadata": {},
   "outputs": [
    {
     "output_type": "execute_result",
     "data": {
      "text/plain": "1         Cat. PDB ID 1    Protein 1 PDB ID 2                 Protein 2  \\\nComplex                                                                   \n1AHW_AB:C    A  1FGN_LH      Fab 5g9   1TFH_A             Tissue factor   \n1BVK_DE:F    A  1BVL_BA   Fv Hulys11    3LZT_              HEW lysozyme   \n1DQJ_AB:C    A  1DQQ_CD  Fab Hyhel63    3LZT_              HEW lysozyme   \n1E6J_HL:P    A  1E6O_HL          Fab    1A43_  HIV-1 capsid protein p24   \n1JPS_HL:T    A  1JPT_HL    Fab D3H44   1TFH_B             Tissue factor   \n\n1         I-RMSD (Å) ΔASA(Å2) BM version introduced  Difficulty Complex ID  \\\nComplex                                                                      \n1AHW_AB:C       0.69     1899                     2  Rigid-body       1AHW   \n1BVK_DE:F       1.24     1321                     2  Rigid-body       1BVK   \n1DQJ_AB:C       0.75     1765                     2  Rigid-body       1DQJ   \n1E6J_HL:P       1.05     1245                     2  Rigid-body       1E6J   \n1JPS_HL:T       0.51     1852                     2  Rigid-body       1JPS   \n\n1         Chains R Chains L  \nComplex                      \n1AHW_AB:C       AB        C  \n1BVK_DE:F       DE        F  \n1DQJ_AB:C       AB        C  \n1E6J_HL:P       HL        P  \n1JPS_HL:T       HL        T  ",
      "text/html": "<div>\n<style scoped>\n    .dataframe tbody tr th:only-of-type {\n        vertical-align: middle;\n    }\n\n    .dataframe tbody tr th {\n        vertical-align: top;\n    }\n\n    .dataframe thead th {\n        text-align: right;\n    }\n</style>\n<table border=\"1\" class=\"dataframe\">\n  <thead>\n    <tr style=\"text-align: right;\">\n      <th>1</th>\n      <th>Cat.</th>\n      <th>PDB ID 1</th>\n      <th>Protein 1</th>\n      <th>PDB ID 2</th>\n      <th>Protein 2</th>\n      <th>I-RMSD (Å)</th>\n      <th>ΔASA(Å2)</th>\n      <th>BM version introduced</th>\n      <th>Difficulty</th>\n      <th>Complex ID</th>\n      <th>Chains R</th>\n      <th>Chains L</th>\n    </tr>\n    <tr>\n      <th>Complex</th>\n      <th></th>\n      <th></th>\n      <th></th>\n      <th></th>\n      <th></th>\n      <th></th>\n      <th></th>\n      <th></th>\n      <th></th>\n      <th></th>\n      <th></th>\n      <th></th>\n    </tr>\n  </thead>\n  <tbody>\n    <tr>\n      <th>1AHW_AB:C</th>\n      <td>A</td>\n      <td>1FGN_LH</td>\n      <td>Fab 5g9</td>\n      <td>1TFH_A</td>\n      <td>Tissue factor</td>\n      <td>0.69</td>\n      <td>1899</td>\n      <td>2</td>\n      <td>Rigid-body</td>\n      <td>1AHW</td>\n      <td>AB</td>\n      <td>C</td>\n    </tr>\n    <tr>\n      <th>1BVK_DE:F</th>\n      <td>A</td>\n      <td>1BVL_BA</td>\n      <td>Fv Hulys11</td>\n      <td>3LZT_</td>\n      <td>HEW lysozyme</td>\n      <td>1.24</td>\n      <td>1321</td>\n      <td>2</td>\n      <td>Rigid-body</td>\n      <td>1BVK</td>\n      <td>DE</td>\n      <td>F</td>\n    </tr>\n    <tr>\n      <th>1DQJ_AB:C</th>\n      <td>A</td>\n      <td>1DQQ_CD</td>\n      <td>Fab Hyhel63</td>\n      <td>3LZT_</td>\n      <td>HEW lysozyme</td>\n      <td>0.75</td>\n      <td>1765</td>\n      <td>2</td>\n      <td>Rigid-body</td>\n      <td>1DQJ</td>\n      <td>AB</td>\n      <td>C</td>\n    </tr>\n    <tr>\n      <th>1E6J_HL:P</th>\n      <td>A</td>\n      <td>1E6O_HL</td>\n      <td>Fab</td>\n      <td>1A43_</td>\n      <td>HIV-1 capsid protein p24</td>\n      <td>1.05</td>\n      <td>1245</td>\n      <td>2</td>\n      <td>Rigid-body</td>\n      <td>1E6J</td>\n      <td>HL</td>\n      <td>P</td>\n    </tr>\n    <tr>\n      <th>1JPS_HL:T</th>\n      <td>A</td>\n      <td>1JPT_HL</td>\n      <td>Fab D3H44</td>\n      <td>1TFH_B</td>\n      <td>Tissue factor</td>\n      <td>0.51</td>\n      <td>1852</td>\n      <td>2</td>\n      <td>Rigid-body</td>\n      <td>1JPS</td>\n      <td>HL</td>\n      <td>T</td>\n    </tr>\n  </tbody>\n</table>\n</div>"
     },
     "metadata": {},
     "execution_count": 3
    }
   ],
   "source": [
    "benchmark_table = read_benchmark_table(pp_benchmark_table_path)\n",
    "benchmark_table.head()"
   ]
  },
  {
   "cell_type": "code",
   "execution_count": 4,
   "metadata": {},
   "outputs": [
    {
     "output_type": "stream",
     "name": "stdout",
     "text": "Complex: 1JPS_HL:T\nStructures: \n\t/home/semyon/mipt/GPCR-TEAM/pp_benchmark_v5/benchmark5/structures/1JPS_r_u.pdb\n\t/home/semyon/mipt/GPCR-TEAM/pp_benchmark_v5/benchmark5/structures/1JPS_r_b.pdb\n\t/home/semyon/mipt/GPCR-TEAM/pp_benchmark_v5/benchmark5/structures/1JPS_l_u.pdb\n\t/home/semyon/mipt/GPCR-TEAM/pp_benchmark_v5/benchmark5/structures/1JPS_l_b.pdb\n"
    }
   ],
   "source": [
    "# Test cell\n",
    "complex_id = benchmark_table.index[4]\n",
    "paths = get_structure_paths(complex_id, benchmark_table, pp_benchmark_structures)\n",
    "print('Complex:', complex_id)\n",
    "print('Structures: \\n\\t{0}'.format(\"\\n\\t\".join(paths)))"
   ]
  },
  {
   "cell_type": "code",
   "execution_count": 5,
   "metadata": {},
   "outputs": [],
   "source": [
    "from core.refine import *"
   ]
  },
  {
   "cell_type": "code",
   "execution_count": 12,
   "metadata": {},
   "outputs": [],
   "source": [
    "pp_benchmark_bound_complex = str(\n",
    "    project.data_path / 'benchmark' / 'modeled_pp5_bound' /\n",
    "    (benchmark_table.loc[complex_id, 'Complex ID'] + '.pdb')\n",
    ")\n",
    "pp_benchmark_unbound_complex = str(\n",
    "    project.data_path / 'benchmark' / 'modeled_pp5_unbound' /\n",
    "    (benchmark_table.loc[complex_id, 'Complex ID'] + '.pdb')\n",
    ")"
   ]
  },
  {
   "cell_type": "code",
   "execution_count": 13,
   "metadata": {},
   "outputs": [
    {
     "output_type": "execute_result",
     "data": {
      "text/plain": "PosixPath('/home/semyon/mipt/GPCR-TEAM/DiplomaPython')"
     },
     "metadata": {},
     "execution_count": 13
    }
   ],
   "source": [
    "project.project_path"
   ]
  },
  {
   "cell_type": "code",
   "execution_count": 14,
   "metadata": {},
   "outputs": [
    {
     "output_type": "stream",
     "name": "stdout",
     "text": "Create protein complex\n@> 9579 atoms and 1 coordinate set(s) were parsed in 0.09s.\nSelections: ['chain C', 'chain A', 'chain B']\n"
    }
   ],
   "source": [
    "print('Create protein complex')\n",
    "omm_structure = app.PDBFile(pp_benchmark_bound_complex)\n",
    "chains = list(omm_structure.topology.chains())\n",
    "chains.sort(key=lambda c: len(list(c.residues())))\n",
    "selections = [f\"chain {chain.id}\" for chain in chains]\n",
    "print('Selections:', selections)\n",
    "complex_bound = ProteinComplex(\n",
    "    pp_benchmark_bound_complex, 'amber14/protein.ff14SB.xml',\n",
    "    selections,\n",
    "    cid='complex_bound'\n",
    ")"
   ]
  },
  {
   "cell_type": "code",
   "execution_count": 15,
   "metadata": {},
   "outputs": [
    {
     "output_type": "stream",
     "name": "stdout",
     "text": "Create protein complex\n@> 9289 atoms and 1 coordinate set(s) were parsed in 0.08s.\nSelections: ['chain C', 'chain A', 'chain B']\n"
    },
    {
     "output_type": "error",
     "ename": "ValueError",
     "evalue": "No template found for residue 504 (VAL).  The set of atoms matches CVAL, but the bonds are different.",
     "traceback": [
      "\u001b[0;31m---------------------------------------------------------------------------\u001b[0m",
      "\u001b[0;31mValueError\u001b[0m                                Traceback (most recent call last)",
      "\u001b[0;32m<ipython-input-15-72e4aaa3fbf8>\u001b[0m in \u001b[0;36m<module>\u001b[0;34m\u001b[0m\n\u001b[1;32m      8\u001b[0m     \u001b[0mpp_benchmark_unbound_complex\u001b[0m\u001b[0;34m,\u001b[0m \u001b[0;34m'amber14/protein.ff14SB.xml'\u001b[0m\u001b[0;34m,\u001b[0m\u001b[0;34m\u001b[0m\u001b[0;34m\u001b[0m\u001b[0m\n\u001b[1;32m      9\u001b[0m     \u001b[0mselections\u001b[0m\u001b[0;34m,\u001b[0m\u001b[0;34m\u001b[0m\u001b[0;34m\u001b[0m\u001b[0m\n\u001b[0;32m---> 10\u001b[0;31m     \u001b[0mcid\u001b[0m\u001b[0;34m=\u001b[0m\u001b[0;34m'complex_unbound'\u001b[0m\u001b[0;34m\u001b[0m\u001b[0;34m\u001b[0m\u001b[0m\n\u001b[0m\u001b[1;32m     11\u001b[0m )\n",
      "\u001b[0;32m~/mipt/GPCR-TEAM/DiplomaPython/source/core/refine.py\u001b[0m in \u001b[0;36m__init__\u001b[0;34m(self, pdb_file, force_field_name, selections, cid)\u001b[0m\n\u001b[1;32m     72\u001b[0m         system = forcefield.createSystem(\n\u001b[1;32m     73\u001b[0m             \u001b[0mself\u001b[0m\u001b[0;34m.\u001b[0m\u001b[0m_omm_protein\u001b[0m\u001b[0;34m.\u001b[0m\u001b[0mtopology\u001b[0m\u001b[0;34m,\u001b[0m\u001b[0;34m\u001b[0m\u001b[0;34m\u001b[0m\u001b[0m\n\u001b[0;32m---> 74\u001b[0;31m             \u001b[0mconstraints\u001b[0m\u001b[0;34m=\u001b[0m\u001b[0mapp\u001b[0m\u001b[0;34m.\u001b[0m\u001b[0mHBonds\u001b[0m\u001b[0;34m,\u001b[0m\u001b[0;34m\u001b[0m\u001b[0;34m\u001b[0m\u001b[0m\n\u001b[0m\u001b[1;32m     75\u001b[0m         )\n\u001b[1;32m     76\u001b[0m         \u001b[0mself\u001b[0m\u001b[0;34m.\u001b[0m\u001b[0m_simulation\u001b[0m \u001b[0;34m=\u001b[0m \u001b[0mapp\u001b[0m\u001b[0;34m.\u001b[0m\u001b[0mSimulation\u001b[0m\u001b[0;34m(\u001b[0m\u001b[0mself\u001b[0m\u001b[0;34m.\u001b[0m\u001b[0m_omm_protein\u001b[0m\u001b[0;34m.\u001b[0m\u001b[0mtopology\u001b[0m\u001b[0;34m,\u001b[0m \u001b[0msystem\u001b[0m\u001b[0;34m,\u001b[0m \u001b[0mintegrator\u001b[0m\u001b[0;34m)\u001b[0m\u001b[0;34m\u001b[0m\u001b[0;34m\u001b[0m\u001b[0m\n",
      "\u001b[0;32m~/mipt/GPCR-TEAM/env/lib/python3.6/site-packages/simtk/openmm/app/forcefield.py\u001b[0m in \u001b[0;36mcreateSystem\u001b[0;34m(self, topology, nonbondedMethod, nonbondedCutoff, constraints, rigidWater, removeCMMotion, hydrogenMass, residueTemplates, ignoreExternalBonds, switchDistance, flexibleConstraints, **args)\u001b[0m\n\u001b[1;32m   1137\u001b[0m                             \u001b[0;32mbreak\u001b[0m\u001b[0;34m\u001b[0m\u001b[0;34m\u001b[0m\u001b[0m\n\u001b[1;32m   1138\u001b[0m             \u001b[0;32mif\u001b[0m \u001b[0mmatches\u001b[0m \u001b[0;32mis\u001b[0m \u001b[0;32mNone\u001b[0m\u001b[0;34m:\u001b[0m\u001b[0;34m\u001b[0m\u001b[0;34m\u001b[0m\u001b[0m\n\u001b[0;32m-> 1139\u001b[0;31m                 \u001b[0;32mraise\u001b[0m \u001b[0mValueError\u001b[0m\u001b[0;34m(\u001b[0m\u001b[0;34m'No template found for residue %d (%s).  %s'\u001b[0m \u001b[0;34m%\u001b[0m \u001b[0;34m(\u001b[0m\u001b[0mres\u001b[0m\u001b[0;34m.\u001b[0m\u001b[0mindex\u001b[0m\u001b[0;34m+\u001b[0m\u001b[0;36m1\u001b[0m\u001b[0;34m,\u001b[0m \u001b[0mres\u001b[0m\u001b[0;34m.\u001b[0m\u001b[0mname\u001b[0m\u001b[0;34m,\u001b[0m \u001b[0m_findMatchErrors\u001b[0m\u001b[0;34m(\u001b[0m\u001b[0mself\u001b[0m\u001b[0;34m,\u001b[0m \u001b[0mres\u001b[0m\u001b[0;34m)\u001b[0m\u001b[0;34m)\u001b[0m\u001b[0;34m)\u001b[0m\u001b[0;34m\u001b[0m\u001b[0;34m\u001b[0m\u001b[0m\n\u001b[0m\u001b[1;32m   1140\u001b[0m             \u001b[0;32melse\u001b[0m\u001b[0;34m:\u001b[0m\u001b[0;34m\u001b[0m\u001b[0;34m\u001b[0m\u001b[0m\n\u001b[1;32m   1141\u001b[0m                 \u001b[0mdata\u001b[0m\u001b[0;34m.\u001b[0m\u001b[0mrecordMatchedAtomParameters\u001b[0m\u001b[0;34m(\u001b[0m\u001b[0mres\u001b[0m\u001b[0;34m,\u001b[0m \u001b[0mtemplate\u001b[0m\u001b[0;34m,\u001b[0m \u001b[0mmatches\u001b[0m\u001b[0;34m)\u001b[0m\u001b[0;34m\u001b[0m\u001b[0;34m\u001b[0m\u001b[0m\n",
      "\u001b[0;31mValueError\u001b[0m: No template found for residue 504 (VAL).  The set of atoms matches CVAL, but the bonds are different."
     ]
    }
   ],
   "source": [
    "print('Create protein complex')\n",
    "omm_structure = app.PDBFile(pp_benchmark_unbound_complex)\n",
    "chains = list(omm_structure.topology.chains())\n",
    "chains.sort(key=lambda c: len(list(c.residues())))\n",
    "selections = [f\"chain {chain.id}\" for chain in chains]\n",
    "print('Selections:', selections)\n",
    "complex_unbound = ProteinComplex(\n",
    "    pp_benchmark_unbound_complex, 'amber14/protein.ff14SB.xml',\n",
    "    selections,\n",
    "    cid='complex_unbound'\n",
    ")"
   ]
  },
  {
   "cell_type": "code",
   "execution_count": 48,
   "metadata": {},
   "outputs": [],
   "source": [
    "def get_chains(pdy_data):\n",
    "    pass"
   ]
  },
  {
   "cell_type": "code",
   "execution_count": 49,
   "metadata": {},
   "outputs": [
    {
     "output_type": "stream",
     "name": "stderr",
     "text": "@> 4708 atoms and 1 coordinate set(s) were parsed in 0.05s.\n"
    }
   ],
   "source": [
    "pp_benchmark_unbound_complex_original = str(\n",
    "    project.data_path / 'benchmark' / 'pp5_unbound' /\n",
    "    (benchmark_table.loc[complex_id, 'Complex ID'] + '.pdb')\n",
    ")\n",
    "complex_unbound_pdy = pdy.parsePDB(pp_benchmark_unbound_complex_original)"
   ]
  },
  {
   "cell_type": "code",
   "execution_count": 50,
   "metadata": {},
   "outputs": [
    {
     "output_type": "stream",
     "name": "stdout",
     "text": "['H' 'H' 'H' ... 'B' 'B' 'B'] (4708,)\n"
    }
   ],
   "source": [
    "chids = complex_unbound_pdy.getChids()\n",
    "print(chids, chids.shape)"
   ]
  },
  {
   "cell_type": "code",
   "execution_count": 51,
   "metadata": {},
   "outputs": [
    {
     "output_type": "stream",
     "name": "stdout",
     "text": "['GLU' 'GLU' 'GLU' ... 'MET' 'MET' 'MET'] (4708,)\n"
    }
   ],
   "source": [
    "resnames = complex_unbound_pdy.getResnames()\n",
    "print(resnames, resnames.shape)"
   ]
  },
  {
   "cell_type": "code",
   "execution_count": 52,
   "metadata": {},
   "outputs": [
    {
     "output_type": "stream",
     "name": "stdout",
     "text": "[  0   0   0 ... 606 606 606] (4708,)\n"
    }
   ],
   "source": [
    "resindices = complex_unbound_pdy.getResindices()\n",
    "print(resindices, resindices.shape)"
   ]
  },
  {
   "cell_type": "code",
   "execution_count": 53,
   "metadata": {},
   "outputs": [
    {
     "output_type": "stream",
     "name": "stdout",
     "text": "Chain H\nChain L\nChain B\n"
    }
   ],
   "source": [
    "for ch in complex_unbound_pdy.iterChains():\n",
    "    print(ch)"
   ]
  },
  {
   "cell_type": "code",
   "execution_count": 54,
   "metadata": {},
   "outputs": [
    {
     "output_type": "stream",
     "name": "stderr",
     "text": "@> 4858 atoms and 1 coordinate set(s) were parsed in 0.06s.\n"
    }
   ],
   "source": [
    "pp_benchmark_bound_complex_original = str(\n",
    "    project.data_path / 'benchmark' / 'pp5_bound' /\n",
    "    (benchmark_table.loc[complex_id, 'Complex ID'] + '.pdb')\n",
    ")\n",
    "complex_bound_pdy = pdy.parsePDB(pp_benchmark_bound_complex_original)"
   ]
  },
  {
   "cell_type": "code",
   "execution_count": 55,
   "metadata": {},
   "outputs": [
    {
     "output_type": "stream",
     "name": "stdout",
     "text": "['H' 'H' 'H' ... 'T' 'T' 'T'] (4858,)\n"
    }
   ],
   "source": [
    "chids = complex_bound_pdy.getChids()\n",
    "print(chids, chids.shape)"
   ]
  },
  {
   "cell_type": "code",
   "execution_count": 56,
   "metadata": {},
   "outputs": [
    {
     "output_type": "stream",
     "name": "stdout",
     "text": "['GLU' 'GLU' 'GLU' ... 'GLY' 'GLY' 'GLY'] (4858,)\n"
    }
   ],
   "source": [
    "resnames = complex_bound_pdy.getResnames()\n",
    "print(resnames, resnames.shape)"
   ]
  },
  {
   "cell_type": "code",
   "execution_count": 57,
   "metadata": {},
   "outputs": [
    {
     "output_type": "stream",
     "name": "stdout",
     "text": "[  0   0   0 ... 625 625 625] (4858,)\n"
    }
   ],
   "source": [
    "resindices = complex_bound_pdy.getResindices()\n",
    "print(resindices, resindices.shape)"
   ]
  },
  {
   "cell_type": "code",
   "execution_count": 58,
   "metadata": {},
   "outputs": [
    {
     "output_type": "stream",
     "name": "stdout",
     "text": "Chain H\nChain L\nChain T\n"
    }
   ],
   "source": [
    "for ch in complex_bound_pdy.iterChains():\n",
    "    print(ch)"
   ]
  },
  {
   "cell_type": "code",
   "execution_count": null,
   "metadata": {},
   "outputs": [],
   "source": []
  }
 ],
 "metadata": {
  "kernelspec": {
   "display_name": "Python 3.6.7 64-bit",
   "language": "python",
   "name": "python36764bit17454a3f029f4876ac11684956a10882"
  },
  "language_info": {
   "codemirror_mode": {
    "name": "ipython",
    "version": 3
   },
   "file_extension": ".py",
   "mimetype": "text/x-python",
   "name": "python",
   "nbconvert_exporter": "python",
   "pygments_lexer": "ipython3",
   "version": "3.6.7-final"
  }
 },
 "nbformat": 4,
 "nbformat_minor": 2
}