{
 "cells": [
  {
   "cell_type": "code",
   "execution_count": 1,
   "metadata": {},
   "outputs": [],
   "source": [
    "import sys, os; sys.path.insert(0, os.path.abspath('..'))"
   ]
  },
  {
   "cell_type": "code",
   "execution_count": 2,
   "metadata": {},
   "outputs": [],
   "source": [
    "from pathlib import Path\n",
    "\n",
    "import project\n",
    "project.setup()\n",
    "from refine import *\n",
    "from utils import get_structure_paths, read_benchmark_table\n",
    "\n",
    "import numpy as np\n",
    "import pandas as pd\n",
    "import matplotlib.pyplot as plt"
   ]
  },
  {
   "cell_type": "code",
   "execution_count": 3,
   "metadata": {},
   "outputs": [],
   "source": [
    "pp_benchmark_dir = Path('/home/semyon/mipt/GPCR-TEAM/pp_benchmark_v5')\n",
    "pp_benchmark_structures = pp_benchmark_dir / 'benchmark5' / 'structures'\n",
    "pp_benchmark_structures_bound = project.data_path / 'benchmark' / 'modeled_pp5_bound'\n",
    "pp_benchmark_structures_unbound = project.data_path / 'benchmark' / 'modeled_pp5_unbound'\n",
    "pp_benchmark_table_path = pp_benchmark_dir / 'Table_BM5.xlsx'"
   ]
  },
  {
   "cell_type": "code",
   "execution_count": 4,
   "metadata": {},
   "outputs": [],
   "source": [
    "amber = \"amber14/protein.ff14SB.xml\"\n",
    "charmm = \"charmm36.xml\"\n",
    "forcefield_name = amber"
   ]
  },
  {
   "cell_type": "code",
   "execution_count": 5,
   "metadata": {},
   "outputs": [
    {
     "name": "stdout",
     "output_type": "stream",
     "text": [
      "['Rigid-body' 'Medium Difficulty' 'Difficult']\n"
     ]
    }
   ],
   "source": [
    "table_bm5 = read_benchmark_table(pp_benchmark_table_path)\n",
    "print(table_bm5.Difficulty.unique())"
   ]
  },
  {
   "cell_type": "code",
   "execution_count": 6,
   "metadata": {},
   "outputs": [],
   "source": [
    "table_bm5_difficult = table_bm5.loc[table_bm5['Difficulty'] == 'Difficult', :]"
   ]
  },
  {
   "cell_type": "code",
   "execution_count": 25,
   "metadata": {},
   "outputs": [
    {
     "name": "stdout",
     "output_type": "stream",
     "text": [
      "1\n",
      "Cat.                                  A\n",
      "PDB ID 1                        1AY1_HL\n",
      "Protein 1                           Fab\n",
      "PDB ID 2                         1TAQ_A\n",
      "Protein 2                Taq polymerase\n",
      "I-RMSD (Å)                         6.91\n",
      "ΔASA(Å2)                           5814\n",
      "BM version introduced                 2\n",
      "Difficulty                    Difficult\n",
      "Complex ID                         1BGX\n",
      "Chains R                             HL\n",
      "Chains L                              T\n",
      "Name: 1BGX_HL:T, dtype: object\n",
      "Path (bound): /home/semyon/PycharmProjects/DiplomaPython/data/benchmark/modeled_pp5_bound/1BGX.pdb\n",
      "Path (unbound): /home/semyon/PycharmProjects/DiplomaPython/data/benchmark/modeled_pp5_unbound/1BGX.pdb\n"
     ]
    }
   ],
   "source": [
    "structure_index = table_bm5_difficult.index[0]\n",
    "structure_cid = table_bm5_difficult.loc[structure_index, 'Complex ID']\n",
    "structure_path_bound = pp_benchmark_structures_bound / f'{structure_cid}.pdb'\n",
    "structure_path_unbound = pp_benchmark_structures_unbound / f'{structure_cid}.pdb'\n",
    "print(table_bm5_difficult.loc[structure_index, :])\n",
    "print(f'Path (bound): {structure_path_bound}')\n",
    "print(f'Path (unbound): {structure_path_unbound}')"
   ]
  },
  {
   "cell_type": "code",
   "execution_count": 31,
   "metadata": {},
   "outputs": [
    {
     "name": "stdout",
     "output_type": "stream",
     "text": [
      "R selection: (chain H) or (chain L)\n",
      "L selection: (chain T)\n"
     ]
    }
   ],
   "source": [
    "r_selection = ' or '.join([f'(chain {c})' for c in table_bm5_difficult.loc[structure_index, 'Chains R']])\n",
    "l_selection = ' or '.join([f'(chain {c})' for c in table_bm5_difficult.loc[structure_index, 'Chains L']])\n",
    "print(f'R selection: {r_selection}')\n",
    "\n",
    "print(f'L selection: {l_selection}')"
   ]
  },
  {
   "cell_type": "code",
   "execution_count": 32,
   "metadata": {},
   "outputs": [
    {
     "name": "stderr",
     "output_type": "stream",
     "text": [
      "@> 19647 atoms and 1 coordinate set(s) were parsed in 0.16s.\n",
      "@> 19396 atoms and 1 coordinate set(s) were parsed in 0.13s.\n"
     ]
    }
   ],
   "source": [
    "pc_bound = ProteinComplex(str(structure_path_bound), forcefield_name, [l_selection, r_selection], cid=structure_cid)\n",
    "pc_unbound = ProteinComplex(str(structure_path_unbound), forcefield_name, [l_selection, r_selection], cid=structure_cid)"
   ]
  },
  {
   "cell_type": "code",
   "execution_count": 36,
   "metadata": {},
   "outputs": [
    {
     "ename": "AttributeError",
     "evalue": "'NoneType' object has no attribute 'getCoords'",
     "output_type": "error",
     "traceback": [
      "\u001b[0;31m---------------------------------------------------------------------------\u001b[0m",
      "\u001b[0;31mAttributeError\u001b[0m                            Traceback (most recent call last)",
      "\u001b[0;32m<ipython-input-36-cc1c4f012582>\u001b[0m in \u001b[0;36m<module>\u001b[0;34m\u001b[0m\n\u001b[1;32m      1\u001b[0m \u001b[0;31m# print(len(pc_bound.get_coords(0)), len(pc_unbound.get_coords(0)))\u001b[0m\u001b[0;34m\u001b[0m\u001b[0;34m\u001b[0m\u001b[0;34m\u001b[0m\u001b[0m\n\u001b[0;32m----> 2\u001b[0;31m \u001b[0mprint\u001b[0m\u001b[0;34m(\u001b[0m\u001b[0mlen\u001b[0m\u001b[0;34m(\u001b[0m\u001b[0mpc_bound\u001b[0m\u001b[0;34m.\u001b[0m\u001b[0mget_coords\u001b[0m\u001b[0;34m(\u001b[0m\u001b[0;36m1\u001b[0m\u001b[0;34m)\u001b[0m\u001b[0;34m)\u001b[0m\u001b[0;34m,\u001b[0m \u001b[0mlen\u001b[0m\u001b[0;34m(\u001b[0m\u001b[0mpc_unbound\u001b[0m\u001b[0;34m.\u001b[0m\u001b[0mget_coords\u001b[0m\u001b[0;34m(\u001b[0m\u001b[0;36m1\u001b[0m\u001b[0;34m)\u001b[0m\u001b[0;34m)\u001b[0m\u001b[0;34m)\u001b[0m\u001b[0;34m\u001b[0m\u001b[0;34m\u001b[0m\u001b[0m\n\u001b[0m",
      "\u001b[0;32m~/PycharmProjects/DiplomaPython/source/refine.py\u001b[0m in \u001b[0;36mget_coords\u001b[0;34m(self, index)\u001b[0m\n\u001b[1;32m    368\u001b[0m \u001b[0;34m\u001b[0m\u001b[0m\n\u001b[1;32m    369\u001b[0m     \u001b[0;32mdef\u001b[0m \u001b[0mget_coords\u001b[0m\u001b[0;34m(\u001b[0m\u001b[0mself\u001b[0m\u001b[0;34m,\u001b[0m \u001b[0mindex\u001b[0m\u001b[0;34m)\u001b[0m\u001b[0;34m:\u001b[0m\u001b[0;34m\u001b[0m\u001b[0;34m\u001b[0m\u001b[0m\n\u001b[0;32m--> 370\u001b[0;31m         \u001b[0;32mreturn\u001b[0m \u001b[0mself\u001b[0m\u001b[0;34m.\u001b[0m\u001b[0m_compartments\u001b[0m\u001b[0;34m[\u001b[0m\u001b[0mindex\u001b[0m\u001b[0;34m]\u001b[0m\u001b[0;34m.\u001b[0m\u001b[0mgetCoords\u001b[0m\u001b[0;34m(\u001b[0m\u001b[0;34m)\u001b[0m\u001b[0;34m\u001b[0m\u001b[0;34m\u001b[0m\u001b[0m\n\u001b[0m\u001b[1;32m    371\u001b[0m \u001b[0;34m\u001b[0m\u001b[0m\n\u001b[1;32m    372\u001b[0m     \u001b[0;32mdef\u001b[0m \u001b[0mset_coords\u001b[0m\u001b[0;34m(\u001b[0m\u001b[0mself\u001b[0m\u001b[0;34m,\u001b[0m \u001b[0mindex\u001b[0m\u001b[0;34m,\u001b[0m \u001b[0mnew_coords\u001b[0m\u001b[0;34m)\u001b[0m\u001b[0;34m:\u001b[0m\u001b[0;34m\u001b[0m\u001b[0;34m\u001b[0m\u001b[0m\n",
      "\u001b[0;31mAttributeError\u001b[0m: 'NoneType' object has no attribute 'getCoords'"
     ]
    }
   ],
   "source": [
    "# print(len(pc_bound.get_coords(0)), len(pc_unbound.get_coords(0)))\n",
    "# print(len(pc_bound.get_coords(1)), len(pc_unbound.get_coords(1)))"
   ]
  },
  {
   "cell_type": "code",
   "execution_count": null,
   "metadata": {},
   "outputs": [],
   "source": []
  }
 ],
 "metadata": {
  "kernelspec": {
   "display_name": "Python 3",
   "language": "python",
   "name": "python3"
  },
  "language_info": {
   "codemirror_mode": {
    "name": "ipython",
    "version": 3
   },
   "file_extension": ".py",
   "mimetype": "text/x-python",
   "name": "python",
   "nbconvert_exporter": "python",
   "pygments_lexer": "ipython3",
   "version": "3.6.7"
  }
 },
 "nbformat": 4,
 "nbformat_minor": 1
}
