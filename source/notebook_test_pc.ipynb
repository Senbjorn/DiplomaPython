{
 "cells": [
  {
   "cell_type": "code",
   "execution_count": 35,
   "metadata": {},
   "outputs": [
    {
     "name": "stdout",
     "output_type": "stream",
     "text": [
      "Populating the interactive namespace from numpy and matplotlib\n"
     ]
    },
    {
     "name": "stderr",
     "output_type": "stream",
     "text": [
      "/home/semyon/mipt/GPCR-TEAM/env/lib/python3.6/site-packages/IPython/core/magics/pylab.py:160: UserWarning: pylab import has clobbered these variables: ['sqrt', 'tanh', 'degrees', 'norm', 'bytes', 'sum', 'radians', 'bar', 'sinh', 'tan', 'dot', 'cosh', 'sin', 'byte', 'cos']\n",
      "`%matplotlib` prevents importing * from pylab and numpy\n",
      "  \"\\n`%matplotlib` prevents importing * from pylab and numpy\"\n"
     ]
    }
   ],
   "source": [
    "from refine import *\n",
    "import project\n",
    "import time\n",
    "import prody as pdy\n",
    "import mdtraj as mdt\n",
    "import matplotlib.pyplot as plt\n",
    "\n",
    "%pylab inline\n",
    "project.setup()"
   ]
  },
  {
   "cell_type": "code",
   "execution_count": 36,
   "metadata": {},
   "outputs": [],
   "source": [
    "def confined_gradient_descent(\n",
    "        rw, decrement=0.9, relative_bounds_r=(0.01, 7), relative_bounds_s=(0.01, 0.5),\n",
    "        max_iter=100, save_path=False):\n",
    "    \"\"\"\n",
    "    Performs gradient descent with respect to a special confinement.\n",
    "\n",
    "    @param rw: system to optimize.\n",
    "    @type rw: RMRestrictionWrapper\n",
    "    @param decrement: fold step when choosing optimal step.\n",
    "    @type decrement: float\n",
    "    @param relative_bounds_r: minimum and maximum rmsd between actual intermediate state and the next one (rigid).\n",
    "    @type relative_bounds_r: tuple\n",
    "    @param relative_bounds_s: minimum and maximum rmsd between actual intermediate state and the next one (modes).\n",
    "    @type relative_bounds_s: tuple\n",
    "    @param max_iter: maximum number of iterations\n",
    "    @type max_iter: int\n",
    "    @param save_path: if true all intermediate states, energies and forces are returned.\n",
    "        Otherwise, the function returns only final record.\n",
    "    @type save_path: bool\n",
    "    @return: dictionary containing all the results.\n",
    "        \"states\" - list of all states along optimization path.\n",
    "        \"energies\" - list of all energies along optimization path.\n",
    "        \"forces\" - list of all forces along optimization path.\n",
    "        If return_traj is false returns only last record.\n",
    "    @rtype: dict\n",
    "    \"\"\"\n",
    "    print(\"INITIALIZATION SATGE\")\n",
    "    optimization_result = {\n",
    "        \"states\": [],\n",
    "        \"energies\": [],\n",
    "        \"forces\": [],\n",
    "        \"coords\": [],\n",
    "        \"success\": True,\n",
    "    }\n",
    "\n",
    "    optimization_result[\"states\"].append(rw.get_position(0))\n",
    "    optimization_result[\"energies\"].append(rw.get_energy())\n",
    "    optimization_result[\"forces\"].append(rw.get_force(0))\n",
    "    optimization_result[\"coords\"].append(rw._protein_complex.get_coords(0))\n",
    "\n",
    "    k = 0\n",
    "    while k < max_iter:\n",
    "        print(\"ITERATION\", k, \"START\")\n",
    "        position = optimization_result[\"states\"][-1]\n",
    "        energy = optimization_result[\"energies\"][-1]\n",
    "        force = optimization_result[\"forces\"][-1]\n",
    "        coords = optimization_result[\"coords\"][-1]\n",
    "        \n",
    "        f_trans = force[0]\n",
    "        torque = force[1]\n",
    "        inertia_inv = np.linalg.inv(force[2])\n",
    "        f_modes = force[3]\n",
    "        w = np.sum(rw._weights[0])\n",
    "\n",
    "        iinv_t = inertia_inv.dot(torque)\n",
    "        iinv_t24 = iinv_t.dot(iinv_t) / 4\n",
    "        ft24w = f_trans.dot(f_trans) / 4 / w\n",
    "        tit = torque.dot(iinv_t)\n",
    "        wrmsd20 = w * relative_bounds_r[0] ** 2\n",
    "        wrmsd21 = w * relative_bounds_r[1] ** 2\n",
    "        a = ft24w * iinv_t24\n",
    "        b0 = ft24w + tit - wrmsd20 * iinv_t24\n",
    "        c0 = -wrmsd20\n",
    "        b1 = ft24w + tit - wrmsd21 * iinv_t24\n",
    "        c1 = -wrmsd21\n",
    "        roots0 = np.roots([a, b0, c0])\n",
    "        roots1 = np.roots([a, b1, c1])\n",
    "        tau0 = np.max(roots0) ** 0.25\n",
    "        tau1 = np.max(roots1) ** 0.25\n",
    "        print(\"tau:\", tau0, tau1)\n",
    "\n",
    "        mcoeff = (4 * w / f_modes.dot(f_modes)) ** 0.25\n",
    "        mtau0 = relative_bounds_s[0] ** 0.5 * mcoeff\n",
    "        mtau1 = relative_bounds_s[1] ** 0.5 * mcoeff\n",
    "        print(\"mtau:\", mtau0, mtau1)\n",
    "        \n",
    "        print(\"LINEAR SEARCH\")\n",
    "        while tau1 > tau0 and mtau1 > mtau0:\n",
    "            trans = tau1 ** 2 / w / 2 * f_trans + position[0]\n",
    "            modes = mtau1 ** 2 / 2 * f_modes + position[2]\n",
    "            quat = np.quaternion(1, *(tau1 ** 2 / 2 * iinv_t))\n",
    "            quat /= quat.norm()\n",
    "            quat = quat * position[1]\n",
    "            new_pos = [trans, quat, modes]\n",
    "            \n",
    "            print(\"TRANS\")\n",
    "            print(position[0])\n",
    "            print(trans)\n",
    "            coords1 = coords\n",
    "            test_pos = [trans, quat, position[2]]\n",
    "            rw.set_position(0, test_pos)\n",
    "            coords2 = rw._protein_complex.get_coords(0)\n",
    "            weights = rw._weights[0]\n",
    "            print(\"TEST RMSD\", rmsd(coords1, coords2, weights))\n",
    "            \n",
    "            rw.set_position(0, new_pos)\n",
    "            new_energy = rw.get_energy()\n",
    "            tau1 *= decrement * decrement\n",
    "            mtau1 *= decrement * decrement\n",
    "            print(new_energy)\n",
    "            if new_energy < energy:\n",
    "                break;\n",
    "        \n",
    "        print(\"ITERATION\", k, \"END\")\n",
    "        optimization_result[\"energies\"].append(rw.get_energy())\n",
    "        if optimization_result[\"energies\"][-2] < optimization_result[\"energies\"][-1]:\n",
    "            optimization_result[\"energies\"].pop()\n",
    "            optimization_result[\"success\"] = False\n",
    "            break\n",
    "        optimization_result[\"states\"].append(rw.get_position(0))\n",
    "        optimization_result[\"forces\"].append(rw.get_force(0))\n",
    "        optimization_result[\"coords\"].append(rw._protein_complex.get_coords(0))\n",
    "        k += 1\n",
    "    return optimization_result"
   ]
  },
  {
   "cell_type": "code",
   "execution_count": 37,
   "metadata": {},
   "outputs": [],
   "source": [
    "def distance(A, B):\n",
    "    darr = []\n",
    "    for i in range(len(A)):\n",
    "        for j in range(len(B)):\n",
    "            diff = A[i] - B[j]\n",
    "            darr.append(np.linalg.norm(diff))\n",
    "    darr = np.array(darr)\n",
    "    return np.min(darr)"
   ]
  },
  {
   "cell_type": "code",
   "execution_count": 38,
   "metadata": {},
   "outputs": [
    {
     "name": "stderr",
     "output_type": "stream",
     "text": [
      "@> 4416 atoms and 1 coordinate set(s) were parsed in 0.04s.\n"
     ]
    },
    {
     "name": "stdout",
     "output_type": "stream",
     "text": [
      "/home/semyon/PycharmProjects/DiplomaPython/data/may_complex/1dfj.pdb\n",
      "write PDB(prody): 0.0374 sec\n",
      "read PDB(openmm): 0.39906764030456543 sec\n"
     ]
    },
    {
     "name": "stderr",
     "output_type": "stream",
     "text": [
      "@> 8726 atoms and 1 coordinate set(s) were parsed in 0.06s.\n"
     ]
    },
    {
     "name": "stdout",
     "output_type": "stream",
     "text": [
      "add hydrogens and extra particles(openmm): 19.58729648590088 sec\n",
      "write PDB(openmm): 0.09228229522705078 sec\n",
      "construction of system: 10.337825298309326 sec\n"
     ]
    }
   ],
   "source": [
    "path = str((project.data_path / \"may_complex\") / \"1dfj.pdb\")\n",
    "print(path)\n",
    "create_system(path, tmp_file=str(project.output_path / \"tmp_system.pdb\"))\n",
    "t0 = time.time()\n",
    "pc = ProteinComplex(str(project.output_path / \"tmp_system.pdb\"), \"charmm36.xml\", [\"chain A\", \"chain B\"])\n",
    "print(\"construction of system:\", -t0 + time.time(), \"sec\")"
   ]
  },
  {
   "cell_type": "code",
   "execution_count": 39,
   "metadata": {},
   "outputs": [],
   "source": [
    "coords_0 = pc.get_coords(0)\n",
    "coords_1 = pc.get_coords(1)"
   ]
  },
  {
   "cell_type": "code",
   "execution_count": 40,
   "metadata": {},
   "outputs": [],
   "source": [
    "pc.set_coords(0, coords_0)\n",
    "pc.set_coords(1, coords_1)"
   ]
  },
  {
   "cell_type": "code",
   "execution_count": 41,
   "metadata": {},
   "outputs": [
    {
     "name": "stderr",
     "output_type": "stream",
     "text": [
      "@> Hessian was built in 0.67s.\n",
      "@> 10 modes were calculated in 18.76s.\n"
     ]
    },
    {
     "name": "stdout",
     "output_type": "stream",
     "text": [
      "construction of wrapper: 19.521661043167114 sec\n"
     ]
    }
   ],
   "source": [
    "t0 = time.time()\n",
    "mode_params = [\n",
    "    {\"nmodes\": 10, \"cutoff\": 4.0},\n",
    "    {\"nmodes\": 0}\n",
    "]\n",
    "rw = RMRestrictionWrapper(pc, mode_params)\n",
    "print(\"construction of wrapper:\", -t0 + time.time(), \"sec\")"
   ]
  },
  {
   "cell_type": "code",
   "execution_count": 42,
   "metadata": {},
   "outputs": [
    {
     "data": {
      "image/png": "[encoded data removed]",
      "text/plain": [
       "<Figure size 432x288 with 1 Axes>"
      ]
     },
     "metadata": {
      "needs_background": "light"
     },
     "output_type": "display_data"
    }
   ],
   "source": [
    "rw.set_position(0, [np.array([0, 0, 0]), np.quaternion(1, 0, 0, 0), np.array([0] * 10)])\n",
    "pdy.showProtein(rw._protein_complex._pdy_protein)\n",
    "pylab.show()"
   ]
  },
  {
   "cell_type": "code",
   "execution_count": 43,
   "metadata": {},
   "outputs": [
    {
     "name": "stdout",
     "output_type": "stream",
     "text": [
      "energy calculated in 3.6375558376312256 seconds\n",
      "-11211.051621148763\n"
     ]
    }
   ],
   "source": [
    "# господин никто\n",
    "# awakenings\n",
    "# chernobl series\n",
    "t0 = time.time()\n",
    "E = rw.get_energy()\n",
    "t1 = time.time() - t0\n",
    "print(f\"energy calculated in {t1} seconds\")\n",
    "print(E)"
   ]
  },
  {
   "cell_type": "code",
   "execution_count": 44,
   "metadata": {},
   "outputs": [
    {
     "name": "stdout",
     "output_type": "stream",
     "text": [
      "[array([0, 0, 0]), quaternion(1, 0, 0, 0), array([0, 0, 0, 0, 0, 0, 0, 0, 0, 0])]\n"
     ]
    }
   ],
   "source": [
    "print(rw.get_position(0))"
   ]
  },
  {
   "cell_type": "code",
   "execution_count": 56,
   "metadata": {},
   "outputs": [],
   "source": [
    "pos0 = rw.get_position(0)\n",
    "pos1 = rw.get_position(1)\n",
    "rw.set_position(0, [np.array([0, 0, 0]), np.quaternion(np.cos(np.pi * (1/24)), 0, np.sin(np.pi * (1/24)), 0), (len(coords_0)) ** 0.5 * np.array([0.3, 0.1, 0.5, *([0] * 7)])])\n",
    "rw.set_position(1, [np.array([0, 0, 0]), pos1[1], pos1[2]])"
   ]
  },
  {
   "cell_type": "code",
   "execution_count": 57,
   "metadata": {},
   "outputs": [
    {
     "name": "stdout",
     "output_type": "stream",
     "text": [
      "[12.92439554  4.30813185 21.54065923  0.          0.          0.\n",
      "  0.          0.          0.          0.        ]\n",
      "[[231566.21298144 -61648.14820999 -38739.43495741]\n",
      " [-61648.14820999 280542.72608071 -21797.95480819]\n",
      " [-38739.43495741 -21797.95480819 274624.97462672]]\n",
      "[[216737.77165998 -63248.49403031 -25360.86821748]\n",
      " [-63248.49403031 276495.20986728  -6456.85491785]\n",
      " [-25360.86821748  -6456.85491785 289236.78378449]]\n",
      "[[216737.77165998 -63248.49403031 -25360.86821748]\n",
      " [-63248.49403031 276495.20986728  -6456.85491785]\n",
      " [-25360.86821748  -6456.85491785 289236.78378449]]\n",
      "1.946288486735937e-09\n"
     ]
    }
   ],
   "source": [
    "n = len(coords_0)\n",
    "mode_pos = rw.get_position(0)[2]\n",
    "rotation_matrix = quaternion.as_rotation_matrix(rw.get_position(0)[1])\n",
    "print(mode_pos)\n",
    "i_tensor = rw._i_tensors[0]\n",
    "c_tensor = rw._c_tensors[0]\n",
    "d_tensor = rw._d_tensors[0]\n",
    "f_tensor = rw._f_tensors[0]\n",
    "weights = rw._weights[0]\n",
    "print(i_tensor)\n",
    "new_i_dir = build_i_tensor(rw._protein_complex.get_coords(0), c_tensor, weights)\n",
    "new_i_ind = calc_inertia_tensor(rotation_matrix, mode_pos, i_tensor, d_tensor, f_tensor, weights)\n",
    "print(new_i_dir)\n",
    "print(new_i_ind)\n",
    "print(np.linalg.norm(new_i_dir - new_i_ind))"
   ]
  },
  {
   "cell_type": "code",
   "execution_count": 54,
   "metadata": {
    "scrolled": false
   },
   "outputs": [
    {
     "data": {
      "image/png": "[encoded data removed]",
      "text/plain": [
       "<Figure size 432x288 with 1 Axes>"
      ]
     },
     "metadata": {
      "needs_background": "light"
     },
     "output_type": "display_data"
    }
   ],
   "source": [
    "pdy.showProtein(rw._protein_complex._pdy_protein)\n",
    "pylab.show()"
   ]
  },
  {
   "cell_type": "code",
   "execution_count": null,
   "metadata": {},
   "outputs": [],
   "source": [
    "rw.set_position(0, result[\"states\"][-1])\n",
    "pdy.showProtein(rw._protein_complex._pdy_protein)\n",
    "pylab.show()"
   ]
  },
  {
   "cell_type": "code",
   "execution_count": 58,
   "metadata": {
    "scrolled": false
   },
   "outputs": [
    {
     "name": "stdout",
     "output_type": "stream",
     "text": [
      "INITIALIZATION SATGE\n",
      "ITERATION 0 START\n",
      "tau: 3.220749066873339e-05 0.0008723832581037388\n",
      "mtau: 3.528908519974321e-05 0.0002495315144660826\n",
      "LINEAR SEARCH\n",
      "TRANS\n",
      "[0 0 0]\n",
      "[ 0.96066332 -2.11237347 -0.26594108]\n",
      "TEST RMSD 6.999999999999981\n",
      "1106802863.1724143\n",
      "TRANS\n",
      "[0 0 0]\n",
      "[ 0.63029121 -1.38592823 -0.17448394]\n",
      "TEST RMSD 4.714069613490446\n",
      "53658480896.79648\n",
      "TRANS\n",
      "[0 0 0]\n",
      "[ 0.41353406 -0.90930751 -0.11447891]\n",
      "TEST RMSD 3.1295159299975577\n",
      "256599830.78253058\n",
      "ITERATION 0 END\n",
      "ITERATION 1 START\n",
      "tau: 7.228910446835415e-05 0.0019327426088092859\n",
      "mtau: 0.00011497953106257805 0.0008130280611199822\n",
      "LINEAR SEARCH\n",
      "TRANS\n",
      "[ 0.41353406 -0.90930751 -0.11447891]\n",
      "[-3.14644043 -2.12709371  1.42822538]\n",
      "TEST RMSD 6.999999999999991\n",
      "7.155212430021619e+17\n",
      "TRANS\n",
      "[ 0.41353406 -0.90930751 -0.11447891]\n",
      "[-1.9221652  -1.70829704  0.89768937]\n",
      "TEST RMSD 4.646864643249398\n",
      "29512478.036213502\n",
      "ITERATION 1 END\n",
      "ITERATION 2 START\n",
      "tau: 0.00036972337106555477 0.009781971459343498\n",
      "mtau: 0.00019671426055011579 0.0013909798759108422\n",
      "LINEAR SEARCH\n",
      "TRANS\n",
      "[-1.9221652  -1.70829704  0.89768937]\n",
      "[-5.77249619  1.62421276 -3.87044034]\n",
      "TEST RMSD 6.999999999999999\n",
      "7.337521643267744e+16\n",
      "TRANS\n",
      "[-1.9221652  -1.70829704  0.89768937]\n",
      "[-4.44836736  0.47816264 -2.23068054]\n",
      "TEST RMSD 4.592705625683066\n",
      "28106621992227.176\n",
      "TRANS\n",
      "[-1.9221652  -1.70829704  0.89768937]\n",
      "[-3.57960644 -0.27376084 -1.15483412]\n",
      "TEST RMSD 3.013275750684662\n",
      "2248251977.5715327\n",
      "TRANS\n",
      "[-1.9221652  -1.70829704  0.89768937]\n",
      "[-3.0096124  -0.76709784 -0.44897129]\n",
      "TEST RMSD 1.9770106690942344\n",
      "6531367392.166223\n",
      "TRANS\n",
      "[-1.9221652  -1.70829704  0.89768937]\n",
      "[-2.63563931 -1.09077625  0.01414531]\n",
      "TEST RMSD 1.2971168268354225\n",
      "252965055767.5299\n",
      "TRANS\n",
      "[-1.9221652  -1.70829704  0.89768937]\n",
      "[-2.39027556 -1.30314165  0.31799611]\n",
      "TEST RMSD 0.8510383859123102\n",
      "2204003407.077616\n",
      "TRANS\n",
      "[-1.9221652  -1.70829704  0.89768937]\n",
      "[-2.22929241 -1.44247459  0.51735262]\n",
      "TEST RMSD 0.5583662951154494\n",
      "2699226295.501871\n",
      "TRANS\n",
      "[-1.9221652  -1.70829704  0.89768937]\n",
      "[-2.12367136 -1.53389093  0.64815043]\n",
      "TEST RMSD 0.36634412908299824\n",
      "94179540.88401969\n",
      "TRANS\n",
      "[-1.9221652  -1.70829704  0.89768937]\n",
      "[-2.0543734  -1.59386919  0.73396687]\n",
      "TEST RMSD 0.24035838389847108\n",
      "43893402.912837595\n",
      "TRANS\n",
      "[-1.9221652  -1.70829704  0.89768937]\n",
      "[-2.008907   -1.63322093  0.79027104]\n",
      "TEST RMSD 0.1576991359037404\n",
      "27906865.19336749\n",
      "ITERATION 2 END\n",
      "ITERATION 3 START\n",
      "tau: 0.0002461454724917023 0.006669674848695551\n",
      "mtau: 0.00017940955678927403 0.0012686171421536865\n",
      "LINEAR SEARCH\n",
      "TRANS\n",
      "[-2.008907   -1.63322093  0.79027104]\n",
      "[-2.28971969 -1.08254336  3.34207378]\n",
      "TEST RMSD 6.999999999999998\n",
      "398577.6618293789\n",
      "ITERATION 3 END\n",
      "ITERATION 4 START\n",
      "tau: 0.0024173189983591054 0.06500568387820453\n",
      "mtau: 0.0034938473940038517 0.02470523184731071\n",
      "LINEAR SEARCH\n",
      "TRANS\n",
      "[-2.28971969 -1.08254336  3.34207378]\n",
      "[-2.76129389 -2.48782874  5.67736963]\n",
      "TEST RMSD 6.999999999999997\n",
      "128120123538.87907\n",
      "TRANS\n",
      "[-2.28971969 -1.08254336  3.34207378]\n",
      "[-2.59911953 -2.00455109  4.87426139]\n",
      "TEST RMSD 4.6769840011862955\n",
      "561073436958.6575\n",
      "TRANS\n",
      "[-2.28971969 -1.08254336  3.34207378]\n",
      "[-2.49271692 -1.68747263  4.34734207]\n",
      "TEST RMSD 3.0935668824325946\n",
      "149443766713.07578\n",
      "TRANS\n",
      "[-2.28971969 -1.08254336  3.34207378]\n",
      "[-2.42290618 -1.47943746  4.0016303 ]\n",
      "TEST RMSD 2.0369033011009563\n",
      "1818396842.7947674\n",
      "TRANS\n",
      "[-2.28971969 -1.08254336  3.34207378]\n",
      "[-2.37710335 -1.34294558  3.77480882]\n",
      "TEST RMSD 1.3384689404071288\n",
      "25447368.563271705\n",
      "TRANS\n",
      "[-2.28971969 -1.08254336  3.34207378]\n",
      "[-2.34705211 -1.25339325  3.62599124]\n",
      "TEST RMSD 0.8787527035263503\n",
      "702606.9562448047\n",
      "TRANS\n",
      "[-2.28971969 -1.08254336  3.34207378]\n",
      "[-2.32733549 -1.19463798  3.52835202]\n",
      "TEST RMSD 0.5767146593852621\n",
      "459928.9306072497\n",
      "TRANS\n",
      "[-2.28971969 -1.08254336  3.34207378]\n",
      "[-2.31439942 -1.15608864  3.46429093]\n",
      "TEST RMSD 0.3784291270685777\n",
      "386222.1773991074\n",
      "ITERATION 4 END\n",
      "ITERATION 5 START\n",
      "tau: 0.001993985982316634 0.05344935782402427\n",
      "mtau: 0.001963639156924676 0.013885025636648736\n",
      "LINEAR SEARCH\n",
      "TRANS\n",
      "[-2.31439942 -1.15608864  3.46429093]\n",
      "[-0.92478887 -4.26919929  5.85616038]\n",
      "TEST RMSD 6.999999999999991\n",
      "10103.034561560216\n",
      "ITERATION 5 END\n",
      "ITERATION 6 START\n",
      "tau: 0.008965619680154005 0.24129004762864933\n",
      "mtau: 0.013746235796027457 0.09720056547160275\n",
      "LINEAR SEARCH\n",
      "TRANS\n",
      "[-0.92478887 -4.26919929  5.85616038]\n",
      "[-2.57587763 -4.58577655  7.84692781]\n",
      "TEST RMSD 6.999999999999993\n",
      "1420253196.7075553\n",
      "TRANS\n",
      "[-0.92478887 -4.26919929  5.85616038]\n",
      "[-2.00806821 -4.47690563  7.16230289]\n",
      "TEST RMSD 4.681076677050866\n",
      "367040.364779659\n",
      "TRANS\n",
      "[-0.92478887 -4.26919929  5.85616038]\n",
      "[-1.63552844 -4.40547542  6.71312048]\n",
      "TEST RMSD 3.0974937644896485\n",
      "4514615186.207772\n",
      "TRANS\n",
      "[-0.92478887 -4.26919929  5.85616038]\n",
      "[-1.3911051  -4.35861006  6.4184119 ]\n",
      "TEST RMSD 2.0398417343435904\n",
      "813237.6111270618\n",
      "TRANS\n",
      "[-0.92478887 -4.26919929  5.85616038]\n",
      "[-1.23073895 -4.32786169  6.22505361]\n",
      "TEST RMSD 1.3405005144883446\n",
      "1365.1940471641346\n",
      "ITERATION 6 END\n",
      "ITERATION 7 START\n",
      "tau: 0.016353270870703547 0.439163098812228\n",
      "mtau: 0.02965543353976687 0.20969558154996135\n",
      "LINEAR SEARCH\n",
      "TRANS\n",
      "[-1.23073895 -4.32786169  6.22505361]\n",
      "[-3.46583627 -5.39359491  4.21724657]\n",
      "TEST RMSD 6.999999999999999\n",
      "40711.7010103654\n",
      "TRANS\n",
      "[-1.23073895 -4.32786169  6.22505361]\n",
      "[-2.6971863  -5.02708925  4.90773141]\n",
      "TEST RMSD 4.669792475690711\n",
      "6045519899.617472\n",
      "TRANS\n",
      "[-1.23073895 -4.32786169  6.22505361]\n",
      "[-2.19287506 -4.7866249   5.36075851]\n",
      "TEST RMSD 3.0867031230605244\n",
      "1417797909431.725\n",
      "TRANS\n",
      "[-1.23073895 -4.32786169  6.22505361]\n",
      "[-1.86199645 -4.62885623  5.6579896 ]\n",
      "TEST RMSD 2.031779143190551\n",
      "3286320.4398272126\n",
      "TRANS\n",
      "[-1.23073895 -4.32786169  6.22505361]\n",
      "[-1.644907   -4.52534421  5.85300291]\n",
      "TEST RMSD 1.3349297633099098\n",
      "59242857.9253038\n",
      "TRANS\n",
      "[-1.23073895 -4.32786169  6.22505361]\n",
      "[-1.50247461 -4.45742997  5.98095114]\n",
      "TEST RMSD 0.8763803673603338\n",
      "865616.8901741788\n",
      "TRANS\n",
      "[-1.23073895 -4.32786169  6.22505361]\n",
      "[-1.40902472 -4.41287144  6.06489798]\n",
      "TEST RMSD 0.5751439402660964\n",
      "50228.83741238773\n",
      "TRANS\n",
      "[-1.23073895 -4.32786169  6.22505361]\n",
      "[-1.34771224 -4.38363659  6.1199755 ]\n",
      "TEST RMSD 0.37739455602330946\n",
      "3103.018378681996\n",
      "TRANS\n",
      "[-1.23073895 -4.32786169  6.22505361]\n",
      "[-1.30748513 -4.3644556   6.15611186]\n",
      "TEST RMSD 0.2476206083162649\n",
      "-2986.087309080077\n",
      "ITERATION 7 END\n",
      "ITERATION 8 START\n",
      "tau: 0.0214833639465912 0.5778831110728926\n",
      "mtau: 0.019488956903313433 0.13780773584585307\n",
      "LINEAR SEARCH\n",
      "TRANS\n",
      "[-1.30748513 -4.3644556   6.15611186]\n",
      "[-2.26215125 -2.47608406  6.62699751]\n",
      "TEST RMSD 6.999999999999983\n",
      "490201944395.27997\n",
      "TRANS\n",
      "[-1.30748513 -4.3644556   6.15611186]\n",
      "[-1.93384157 -3.12549503  6.46505993]\n",
      "TEST RMSD 4.678595276822227\n",
      "9404251.859643595\n",
      "TRANS\n",
      "[-1.30748513 -4.3644556   6.15611186]\n",
      "[-1.71843759 -3.55157357  6.35881269]\n",
      "TEST RMSD 3.0950201302022236\n",
      "27845.981848644446\n",
      "TRANS\n",
      "[-1.30748513 -4.3644556   6.15611186]\n",
      "[-1.57711104 -3.8311237   6.28910387]\n",
      "TEST RMSD 2.0379605628147957\n",
      "762547353.0615098\n",
      "TRANS\n",
      "[-1.30748513 -4.3644556   6.15611186]\n",
      "[-1.48438669 -4.01453654  6.24336792]\n",
      "TEST RMSD 1.3391908871202434\n",
      "898370330.0442766\n",
      "TRANS\n",
      "[-1.30748513 -4.3644556   6.15611186]\n",
      "[-1.42355024 -4.13487371  6.21336056]\n",
      "TEST RMSD 0.8792342304371056\n",
      "13013435.855804024\n",
      "TRANS\n",
      "[-1.30748513 -4.3644556   6.15611186]\n",
      "[-1.38363545 -4.21382692  6.19367273]\n",
      "TEST RMSD 0.5770327926343749\n",
      "258484.97889964067\n",
      "TRANS\n",
      "[-1.30748513 -4.3644556   6.15611186]\n",
      "[-1.35744735 -4.26562812  6.18075555]\n",
      "TEST RMSD 0.37863847468227513\n",
      "13423.062021892052\n",
      "TRANS\n",
      "[-1.30748513 -4.3644556   6.15611186]\n",
      "[-1.34026534 -4.29961489  6.17228058]\n",
      "TEST RMSD 0.24843805474521158\n",
      "-2156.783968120909\n",
      "TRANS\n",
      "[-1.30748513 -4.3644556   6.15611186]\n",
      "[-1.32899223 -4.32191361  6.16672016]\n",
      "TEST RMSD 0.1630039790701007\n",
      "-4739.262531489746\n",
      "ITERATION 8 END\n",
      "ITERATION 9 START\n",
      "tau: 0.03151937332508238 0.8472465195705835\n",
      "mtau: 0.04338826329184382 0.30680135197570124\n",
      "LINEAR SEARCH\n",
      "TRANS\n",
      "[-1.32899223 -4.32191361  6.16672016]\n",
      "[-2.98381124 -6.23308775  5.14852535]\n",
      "TEST RMSD 6.999999999999987\n",
      "844216350.9595096\n",
      "TRANS\n",
      "[-1.32899223 -4.32191361  6.16672016]\n",
      "[-2.41471898 -5.57583496  5.49868255]\n",
      "TEST RMSD 4.674812659921555\n",
      "5585066208.820057\n",
      "TRANS\n",
      "[-1.32899223 -4.32191361  6.16672016]\n",
      "[-2.04133755 -5.14461141  5.72842068]\n",
      "TEST RMSD 3.0914599312207933\n",
      "105935377832.61903\n",
      "TRANS\n",
      "[-1.32899223 -4.32191361  6.16672016]\n",
      "[-1.79636199 -4.86168564  5.87915187]\n",
      "TEST RMSD 2.0353190333353255\n",
      "14557532650.63879\n",
      "TRANS\n",
      "[-1.32899223 -4.32191361  6.16672016]\n",
      "[-1.63563353 -4.67605804  5.97804661]\n",
      "TEST RMSD 1.3373713189818837\n"
     ]
    },
    {
     "name": "stdout",
     "output_type": "stream",
     "text": [
      "1.9466836226509162e+17\n",
      "TRANS\n",
      "[-1.32899223 -4.32191361  6.16672016]\n",
      "[-1.53017959 -4.55426777  6.04293144]\n",
      "TEST RMSD 0.8780159777460738\n",
      "75770903.37218343\n",
      "TRANS\n",
      "[-1.32899223 -4.32191361  6.16672016]\n",
      "[-1.46099125 -4.47436118  6.08550238]\n",
      "TEST RMSD 0.5762265943497823\n",
      "184685.0688658097\n",
      "TRANS\n",
      "[-1.32899223 -4.32191361  6.16672016]\n",
      "[-1.41559679 -4.42193446  6.11343318]\n",
      "TEST RMSD 0.37810757824534613\n",
      "6904.341326928579\n",
      "TRANS\n",
      "[-1.32899223 -4.32191361  6.16672016]\n",
      "[-1.38581348 -4.38753729  6.13175857]\n",
      "TEST RMSD 0.24808918290168838\n",
      "-3615.319691818476\n",
      "TRANS\n",
      "[-1.32899223 -4.32191361  6.16672016]\n",
      "[-1.36627265 -4.36496931  6.14378186]\n",
      "TEST RMSD 0.1627749287188805\n",
      "-5353.220417996924\n",
      "ITERATION 9 END\n",
      "ITERATION 10 START\n",
      "tau: 0.03650565888364381 0.9814107329659891\n",
      "mtau: 0.030698118336950343 0.2170684764572469\n",
      "LINEAR SEARCH\n",
      "TRANS\n",
      "[-1.36627265 -4.36496931  6.14378186]\n",
      "[-2.78839724 -2.50466155  6.36602022]\n",
      "TEST RMSD 6.999999999999983\n",
      "740779892546.7604\n",
      "TRANS\n",
      "[-1.36627265 -4.36496931  6.14378186]\n",
      "[-2.29932859 -3.14442139  6.28959245]\n",
      "TEST RMSD 4.675618428765821\n",
      "11556665.846497016\n",
      "TRANS\n",
      "[-1.36627265 -4.36496931  6.14378186]\n",
      "[-1.97845066 -3.56416782  6.23944819]\n",
      "TEST RMSD 3.092174608486777\n",
      "275996.8136414577\n",
      "TRANS\n",
      "[-1.36627265 -4.36496931  6.14378186]\n",
      "[-1.76792264 -3.83956345  6.20654854]\n",
      "TEST RMSD 2.0358348123279693\n",
      "28041431.25592336\n",
      "TRANS\n",
      "[-1.36627265 -4.36496931  6.14378186]\n",
      "[-1.62979521 -4.02025053  6.18496308]\n",
      "TEST RMSD 1.337722239432702\n",
      "16117986.899359671\n",
      "TRANS\n",
      "[-1.36627265 -4.36496931  6.14378186]\n",
      "[-1.5391698  -4.13879931  6.17080086]\n",
      "TEST RMSD 0.8782496623765113\n",
      "54601743.871343404\n",
      "TRANS\n",
      "[-1.36627265 -4.36496931  6.14378186]\n",
      "[-1.47971047 -4.21657918  6.16150902]\n",
      "TEST RMSD 0.5763808770053188\n",
      "389717.01513844443\n",
      "TRANS\n",
      "[-1.36627265 -4.36496931  6.14378186]\n",
      "[-1.4406992  -4.26761054  6.15541265]\n",
      "TEST RMSD 0.3782090734975719\n",
      "13312.498745732359\n",
      "TRANS\n",
      "[-1.36627265 -4.36496931  6.14378186]\n",
      "[-1.41510391 -4.30109222  6.15141282]\n",
      "TEST RMSD 0.24815585014258926\n",
      "-3001.15463242418\n",
      "TRANS\n",
      "[-1.36627265 -4.36496931  6.14378186]\n",
      "[-1.39831084 -4.32305955  6.14878854]\n",
      "TEST RMSD 0.16281869059853843\n",
      "-5435.467629475\n",
      "ITERATION 10 END\n",
      "ITERATION 11 START\n",
      "tau: 0.03253055854012301 0.8746675607697998\n",
      "mtau: 0.046203463532350685 0.3267078237803052\n",
      "LINEAR SEARCH\n",
      "TRANS\n",
      "[-1.39831084 -4.32305955  6.14878854]\n",
      "[-2.64173225 -6.38750171  5.44526329]\n",
      "TEST RMSD 6.999999999999982\n",
      "204361267568.9362\n",
      "TRANS\n",
      "[-1.39831084 -4.32305955  6.14878854]\n",
      "[-2.21411963 -5.67754005  5.68720562]\n",
      "TEST RMSD 4.676292618375636\n",
      "18600571329838.305\n",
      "TRANS\n",
      "[-1.39831084 -4.32305955  6.14878854]\n",
      "[-1.93356299 -5.21173421  5.84594399]\n",
      "TEST RMSD 3.0928509405202638\n",
      "7185813202.433693\n",
      "TRANS\n",
      "[-1.39831084 -4.32305955  6.14878854]\n",
      "[-1.74948977 -4.90611899  5.95009223]\n",
      "TEST RMSD 2.036350466200607\n",
      "120031935940.30331\n",
      "TRANS\n",
      "[-1.39831084 -4.32305955  6.14878854]\n",
      "[-1.62871934 -4.70560485  6.01842389]\n",
      "TEST RMSD 1.338081608305722\n",
      "182973047493.50385\n",
      "TRANS\n",
      "[-1.39831084 -4.32305955  6.14878854]\n",
      "[-1.54948186 -4.57404752  6.06325629]\n",
      "TEST RMSD 0.8784914803493479\n",
      "55038466.574996285\n",
      "TRANS\n",
      "[-1.39831084 -4.32305955  6.14878854]\n",
      "[-1.49749414 -4.48773276  6.09267083]\n",
      "TEST RMSD 0.5765412497333156\n",
      "121559.9240152043\n",
      "TRANS\n",
      "[-1.39831084 -4.32305955  6.14878854]\n",
      "[-1.46338501 -4.43110164  6.11196971]\n",
      "TEST RMSD 0.37831478004678426\n",
      "1062.8123760493972\n",
      "TRANS\n",
      "[-1.39831084 -4.32305955  6.14878854]\n",
      "[-1.441006   -4.39394597  6.1246317 ]\n",
      "TEST RMSD 0.24822534163723203\n",
      "-5331.194942716892\n",
      "TRANS\n",
      "[-1.39831084 -4.32305955  6.14878854]\n",
      "[-1.42632314 -4.36956813  6.13293924]\n",
      "TEST RMSD 0.16286432280204385\n",
      "-6287.316303626664\n",
      "ITERATION 11 END\n",
      "ITERATION 12 START\n",
      "tau: 0.055765929416153 1.4970387790147708\n",
      "mtau: 0.04252280899520089 0.30068166595606866\n",
      "LINEAR SEARCH\n",
      "TRANS\n",
      "[-1.42632314 -4.36956813  6.13293924]\n",
      "[-3.55164999 -2.58103803  5.85954505]\n",
      "TEST RMSD 6.999999999999982\n",
      "47359049056.36448\n",
      "TRANS\n",
      "[-1.42632314 -4.36956813  6.13293924]\n",
      "[-2.82075009 -3.19611353  5.95356531]\n",
      "TEST RMSD 4.668077504846304\n",
      "9614273386308.428\n",
      "TRANS\n",
      "[-1.42632314 -4.36956813  6.13293924]\n",
      "[-2.34120666 -3.59966457  6.015252  ]\n",
      "TEST RMSD 3.084970972016295\n",
      "10570360728.36596\n",
      "TRANS\n",
      "[-1.42632314 -4.36956813  6.13293924]\n",
      "[-2.02657822 -3.8644344   6.05572464]\n",
      "TEST RMSD 2.0304548577729356\n",
      "377485596.4190748\n",
      "TRANS\n",
      "[-1.42632314 -4.36956813  6.13293924]\n",
      "[-1.82015049 -4.03814989  6.08227874]\n",
      "TEST RMSD 1.3340057747209493\n",
      "17700375.485882137\n",
      "TRANS\n",
      "[-1.42632314 -4.36956813  6.13293924]\n",
      "[-1.68471327 -4.15212462  6.09970089]\n",
      "TEST RMSD 0.8757583121965844\n",
      "140844111.6618985\n",
      "TRANS\n",
      "[-1.42632314 -4.36956813  6.13293924]\n",
      "[-1.5958529  -4.22690345  6.11113156]\n",
      "TEST RMSD 0.574731308539771\n",
      "410189.10559553985\n",
      "TRANS\n",
      "[-1.42632314 -4.36956813  6.13293924]\n",
      "[-1.53755161 -4.27596583  6.11863122]\n",
      "TEST RMSD 0.377122553191554\n",
      "9659.769290854369\n",
      "TRANS\n",
      "[-1.42632314 -4.36956813  6.13293924]\n",
      "[-1.49930014 -4.30815566  6.12355175]\n",
      "TEST RMSD 0.2474417866482635\n",
      "-4264.640194940465\n",
      "TRANS\n",
      "[-1.42632314 -4.36956813  6.13293924]\n",
      "[-1.47420335 -4.32927541  6.1267801 ]\n",
      "TEST RMSD 0.16234985526824655\n",
      "-6133.473731869882\n",
      "ITERATION 12 END\n"
     ]
    }
   ],
   "source": [
    "result = confined_gradient_descent(rw)"
   ]
  },
  {
   "cell_type": "code",
   "execution_count": 49,
   "metadata": {},
   "outputs": [
    {
     "name": "stdout",
     "output_type": "stream",
     "text": [
      "[77420863951.96135, 182734743.07621682, 103988802.83270702]\n",
      "[array([ 0.18845802, -1.63589335, -0.34143071]), quaternion(0.937717291951353, -0.140872547783515, 0.209694250621134, -0.117376226716225), array([14.4847239 ,  1.59324539, 17.60876003, -3.67862249, -0.08783175,\n",
      "        0.30887516, -8.71046663,  0.38920592,  8.53343236, -0.49254326])]\n",
      "[[array([0, 0, 0]), quaternion(0.965925826289068, 0, 0.258819045102521, 0), array([12.92439554,  4.30813185, 21.54065923,  0.        ,  0.        ,\n",
      "        0.        ,  0.        ,  0.        ,  0.        ,  0.        ])], [array([ 0.26997343, -1.73537913, -0.46590283]), quaternion(0.933892395834524, -0.155095631261774, 0.21283039207995, -0.125095584780309), array([14.35268147,  1.36777877, 16.73608617, -3.58230805,  0.27986257,\n",
      "        0.32804131, -8.88634445,  0.39642046,  8.58728186, -0.28747952])], [array([ 0.1599793 , -1.71502175, -0.32129996]), quaternion(0.936640889590861, -0.143755724878425, 0.213424890966003, -0.11585042176402), array([14.60610581,  1.53153843, 17.62710549, -3.81279738, -0.16725349,\n",
      "        0.45182769, -8.88213271,  0.44316608,  8.89985774, -0.42028785])]]\n"
     ]
    }
   ],
   "source": [
    "print(result[\"energies\"])\n",
    "print(rw.get_position(0))\n",
    "print(result[\"states\"])"
   ]
  },
  {
   "cell_type": "code",
   "execution_count": 50,
   "metadata": {},
   "outputs": [
    {
     "name": "stdout",
     "output_type": "stream",
     "text": [
      "(1, 8726, 3)\n",
      "(2, 8726, 3)\n",
      "(3, 8726, 3)\n"
     ]
    }
   ],
   "source": [
    "full_list = result[\"coords\"]\n",
    "n_states = len(full_list)\n",
    "\n",
    "trj = None\n",
    "for i in range(n_states):\n",
    "    pc.set_coords(0, full_list[i])\n",
    "    with open(project.output_path / \"inter_pdb.pdb\", \"w\") as input_file:\n",
    "        pc._omm_protein.writeFile(positions=pc._omm_protein.positions,\n",
    "                                   topology=pc._omm_protein.topology,\n",
    "                                   file=input_file)\n",
    "    if trj is not None:\n",
    "        trj = trj.join(mdt.load(str(project.output_path / \"inter_pdb.pdb\")))\n",
    "    else:\n",
    "        trj = mdt.load(str(project.output_path / \"inter_pdb.pdb\"))\n",
    "    print(trj.xyz.shape)"
   ]
  },
  {
   "cell_type": "code",
   "execution_count": 51,
   "metadata": {},
   "outputs": [],
   "source": [
    "trj.save_pdb(str(project.output_path / \"trajectory2.pdb\"))"
   ]
  },
  {
   "cell_type": "code",
   "execution_count": null,
   "metadata": {},
   "outputs": [],
   "source": [
    "step = -3\n",
    "T = np.array([step, 0, 0])\n",
    "\n",
    "ref_coords = pc.get_coords(1)\n",
    "old_coords = pc.get_coords(0)\n",
    "\n",
    "n = len(old_coords)\n",
    "T_span = np.tile(T, n).reshape((n, 3))\n",
    "\n",
    "\n",
    "X = [0]\n",
    "E = [pc.get_energy()]\n",
    "D = [distance(old_coords, ref_coords)]\n",
    "for i in range(15):\n",
    "    new_coords = old_coords + T_span\n",
    "    old_coords = new_coords\n",
    "    pc.set_coords(0, new_coords)\n",
    "    E.append(pc.get_energy())\n",
    "    D.append(distance(old_coords, ref_coords))\n",
    "    X.append(step * (i + 1))\n",
    "    print(i + 1, end=\" \")\n",
    "    "
   ]
  },
  {
   "cell_type": "code",
   "execution_count": null,
   "metadata": {},
   "outputs": [],
   "source": [
    "fig, ax = plt.subplots()\n",
    "ax.scatter(X, E)\n",
    "ax.set_yscale(\"linear\")\n",
    "ax.grid()\n",
    "plt.show()"
   ]
  },
  {
   "cell_type": "code",
   "execution_count": 23,
   "metadata": {},
   "outputs": [
    {
     "data": {
      "text/plain": [
       "-11108.484147373545"
      ]
     },
     "execution_count": 23,
     "metadata": {},
     "output_type": "execute_result"
    }
   ],
   "source": [
    "E"
   ]
  },
  {
   "cell_type": "code",
   "execution_count": 41,
   "metadata": {},
   "outputs": [],
   "source": [
    "E1 = result[\"energies\"] - np.min(E) + 1"
   ]
  },
  {
   "cell_type": "code",
   "execution_count": 42,
   "metadata": {},
   "outputs": [
    {
     "data": {
      "text/plain": [
       "array([2.57820681e+10, 7.64559026e+03, 7.60836662e+03, 7.47473917e+03,\n",
       "       1.41016460e+14])"
      ]
     },
     "execution_count": 42,
     "metadata": {},
     "output_type": "execute_result"
    }
   ],
   "source": [
    "E1"
   ]
  },
  {
   "cell_type": "code",
   "execution_count": 43,
   "metadata": {},
   "outputs": [
    {
     "data": {
      "image/png": "[encoded data removed]",
      "text/plain": [
       "<Figure size 432x288 with 1 Axes>"
      ]
     },
     "metadata": {
      "needs_background": "light"
     },
     "output_type": "display_data"
    }
   ],
   "source": [
    "fig, ax = plt.subplots()\n",
    "ax.scatter(range(len(E1)), np.log(E1))\n",
    "ax.set_yscale(\"linear\")\n",
    "ax.grid()\n",
    "plt.show()"
   ]
  },
  {
   "cell_type": "code",
   "execution_count": 27,
   "metadata": {},
   "outputs": [
    {
     "data": {
      "text/plain": [
       "array([[ 86.94921098, -32.1553179 ,   2.57630454],\n",
       "       [ 87.4318867 , -32.23419678,   1.63233754],\n",
       "       [ 87.64700711, -32.37348674,   3.34214153],\n",
       "       ...,\n",
       "       [ 63.88739034, -30.9521773 ,  25.04640989],\n",
       "       [ 62.22839047, -31.6021048 ,  25.07395235],\n",
       "       [ 63.65730722, -33.87989076,  28.04677872]])"
      ]
     },
     "execution_count": 27,
     "metadata": {},
     "output_type": "execute_result"
    }
   ],
   "source": [
    "rw._protein_complex.get_coords(0)"
   ]
  },
  {
   "cell_type": "code",
   "execution_count": null,
   "metadata": {},
   "outputs": [],
   "source": []
  }
 ],
 "metadata": {
  "kernelspec": {
   "display_name": "Python 3",
   "language": "python",
   "name": "python3"
  },
  "language_info": {
   "codemirror_mode": {
    "name": "ipython",
    "version": 3
   },
   "file_extension": ".py",
   "mimetype": "text/x-python",
   "name": "python",
   "nbconvert_exporter": "python",
   "pygments_lexer": "ipython3",
   "version": "3.6.7"
  }
 },
 "nbformat": 4,
 "nbformat_minor": 2
}
