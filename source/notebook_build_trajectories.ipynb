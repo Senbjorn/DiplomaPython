{
 "cells": [
  {
   "cell_type": "code",
   "execution_count": 1,
   "metadata": {},
   "outputs": [
    {
     "name": "stdout",
     "output_type": "stream",
     "text": [
      "Using matplotlib backend: TkAgg\n"
     ]
    }
   ],
   "source": [
    "import sys\n",
    "from refine import *\n",
    "import project\n",
    "import mdtraj as mdt\n",
    "\n",
    "import multiprocessing\n",
    "from multiprocessing import Process, Queue, Lock\n",
    "from queue import Empty\n",
    "# multiprocessing.set_start_method(\"fork\")\n",
    "\n",
    "import io\n",
    "\n",
    "%matplotlib\n",
    "import matplotlib.pyplot as plt\n",
    "import matplotlib.animation as animation\n",
    "from matplotlib import style\n",
    "\n",
    "style.use(\"fivethirtyeight\")"
   ]
  },
  {
   "cell_type": "code",
   "execution_count": 2,
   "metadata": {},
   "outputs": [],
   "source": [
    "project.setup()"
   ]
  },
  {
   "cell_type": "code",
   "execution_count": 3,
   "metadata": {},
   "outputs": [],
   "source": [
    "def confined_gradient_descent(\n",
    "        obj_q, decrement=0.9, termination=\"growth\",\n",
    "        absolute_bound=float(\"inf\"), relative_bounds=(0.01, 7.0), etol=1, max_iter=100, return_traj=False):\n",
    "    \"\"\"\n",
    "    Performs gradient descent of a system with respect to a special confinement.\n",
    "\n",
    "    @param nmw: system to optimize.\n",
    "    @type nmw: NMSpaceWrapper\n",
    "    @param decrement: fold step when choosing optimal step.\n",
    "    @type decrement: float\n",
    "    @param termination: termination condition.\n",
    "    @type termination: str\n",
    "    @param absolute_bound: maximum rmsd between inital state and any intermediate state.\n",
    "    @type absolute_bound: float\n",
    "    @param relative_bounds: minimum and maximum rmsd between actual intermediate state and the next one.\n",
    "    @type relative_bounds: tuple\n",
    "    @param etol: terminates when |E(i+1) - E(i)| < etol\n",
    "    @type etol: float\n",
    "    @param max_iter: maximum number of iterations\n",
    "    @type max_iter: int\n",
    "    @param return_traj: if true all intermediate states, energies and forces are returned.\n",
    "        Otherwise, the function returns only final record.\n",
    "    @type return_traj: bool\n",
    "    @return: dictionary containing all the results.\n",
    "        \"states\" - list of all states along optimization path.\n",
    "        \"energies\" - list of all energies along optimization path.\n",
    "        \"forces\" - list of all forces along optimization path.\n",
    "        If return_traj is false returns only last record.\n",
    "    @rtype: dict\n",
    "    \"\"\"\n",
    "    \n",
    "    path = str((project.data_path / \"may_complex\") / \"1dfj.pdb\")\n",
    "    print(path)\n",
    "    create_system(path, tmp_file=str(project.output_path / \"tmp_system.pdb\"))\n",
    "    t0 = time.time()\n",
    "    drs = DRSystem(str(project.output_path / \"tmp_system.pdb\"), 'amber14/protein.ff14SB.xml', refine=\"chain A\", static=\"chain B\")\n",
    "    print(\"construction of a system:\", -t0 + time.time(), \"sec\")\n",
    "    t0 = time.time()\n",
    "    nmw1 = NMSpaceWrapper(drs, n_modes=10)\n",
    "    print(\"INIT ENERGY:\", nmw1.get_energy())\n",
    "    \n",
    "    m = 0\n",
    "    \n",
    "    while m != 10:\n",
    "    \n",
    "        natoms = len(nmw1.get_system_position())\n",
    "        weights = np.ones((natoms,))\n",
    "        \n",
    "        # random noise\n",
    "        preset_rmsd = .3\n",
    "\n",
    "        # mu = a * mu_0\n",
    "        # preset_rmsd = |a| (np.dot(mu_0, mu_0) / natoms) ** 0.5 => \n",
    "        # => a = (preset_rmsd ** 2 * natoms / np.dot(mu_0, mu_0)) ** 0.5\n",
    "\n",
    "        mu = np.random.normal(0, 1, 10)\n",
    "        mu = (preset_rmsd ** 2 * natoms / np.dot(mu, mu)) ** 0.5 * mu\n",
    "        nmw1.set_position(np.zeros(10,))\n",
    "        x1 = nmw1.get_system_position().copy()\n",
    "        nmw1.set_position(mu)\n",
    "        x2 = nmw1.get_system_position().copy()\n",
    "        print(\"rmsd init:\", rmsd(x1, x2, weights))\n",
    "        print(\"RANDOM ENERGY:\", nmw1.get_energy())\n",
    "        pdy.writePDB(str(project.output_path / \"shifted_6.0.pdb\"), drs._refine_prot)\n",
    "\n",
    "        nmw2 = NMSpaceWrapper(drs, n_modes=10)\n",
    "        m = len(nmw2.get_eigenvalues())\n",
    "    \n",
    "    nmw2.set_position(np.zeros((10,)))\n",
    "    nmw = nmw2\n",
    "    \n",
    "    # number of modes\n",
    "    m = len(nmw.get_eigenvalues())\n",
    "    # number of atoms\n",
    "    n = len(nmw.get_system_position())\n",
    "    # modes\n",
    "    modes = nmw.get_modes()\n",
    "    # special values\n",
    "    ru_bound_value = n * relative_bounds[1] ** 2\n",
    "    rl_bound_value = n * relative_bounds[0] ** 2\n",
    "    a_bound_value = n * absolute_bound ** 2\n",
    "    # initial state\n",
    "    iteration_count = 0\n",
    "    states = []\n",
    "    energies = []\n",
    "    forces = []\n",
    "    energy_init = nmw.get_energy()\n",
    "    position_init = nmw.get_position().copy()\n",
    "    energies.append(energy_init)\n",
    "    states.append(nmw.get_system_position().copy())\n",
    "\n",
    "    # it is a weighted anti-gradient!\n",
    "    anti_gradient = nmw.get_force().copy()\n",
    "    forces.append(anti_gradient)\n",
    "    \n",
    "    # update data\n",
    "    obj_q.put({\n",
    "        \"energies\": energies,\n",
    "        \"states\": states,\n",
    "        \"forces\": forces,\n",
    "    })\n",
    "    \n",
    "    # main cycle\n",
    "    while True:\n",
    "        print(\"\\n(main) CYCLE START\\n\")\n",
    "\n",
    "        # find a step\n",
    "        # relative bound\n",
    "        a = np.dot(anti_gradient, anti_gradient)\n",
    "        upper_bound = (ru_bound_value / a) ** 0.5\n",
    "        lower_bound = (rl_bound_value / a) ** 0.5\n",
    "        # absolute bound\n",
    "\n",
    "\n",
    "        # find optimal step\n",
    "        dec = [1]\n",
    "        eng = []\n",
    "        ind = [0]\n",
    "\n",
    "        nmw.set_position(dec[0] * upper_bound * anti_gradient + position_init)\n",
    "\n",
    "        eng.append(nmw.get_energy())\n",
    "        score = 0\n",
    "        while True:\n",
    "            dec.append(dec[-1] * decrement)\n",
    "            ind.append(ind[-1] + 1)\n",
    "            if dec[-1] * upper_bound <= lower_bound:\n",
    "                break\n",
    "\n",
    "            nmw.set_position(dec[-1] * upper_bound * anti_gradient + position_init)\n",
    "            eng.append(nmw.get_energy())\n",
    "            print(\"\\t(line) energy:\", eng[-1])\n",
    "            # update data\n",
    "            obj_q.put({\n",
    "                \"energies_line\": eng,\n",
    "            })\n",
    "            \n",
    "            # exit condition\n",
    "            if energy_init > eng[-1] > eng[-2]:\n",
    "                score += 1\n",
    "            elif eng[-1] < eng[-2] or energy_init <= eng[-1]:\n",
    "                score = 0\n",
    "            if score >= 3:\n",
    "                break\n",
    "\n",
    "        # update state list\n",
    "        j = np.argmin(eng)\n",
    "        mu = dec[j] * upper_bound * anti_gradient\n",
    "\n",
    "        # new initial states\n",
    "        position_init = mu + position_init\n",
    "        energy_init = eng[j]\n",
    "        nmw.set_position(position_init)\n",
    "\n",
    "        # state energy force\n",
    "        states.append(nmw.get_system_position().copy())\n",
    "        energies.append(eng[j])\n",
    "        anti_gradient = nmw.get_force().copy()\n",
    "        forces.append(anti_gradient)\n",
    "        \n",
    "        # print results\n",
    "        print(\"(main) optimum:\")\n",
    "        print(\"       index:\", j)\n",
    "        print(\"       energy:\", energies[-1])\n",
    "        print(\"       force:\", np.linalg.norm(forces[-1]))\n",
    "        \n",
    "        # adaptive upper bound\n",
    "        ru_bound_value = min(np.dot(mu, mu) / decrement ** 3, n * relative_bounds[1] ** 2)\n",
    "        print(\"       upper_bound:\", (ru_bound_value / n) ** 0.5)\n",
    "        \n",
    "        # termination\n",
    "        iteration_count += 1\n",
    "        \n",
    "        # update data\n",
    "        obj_q.put({\n",
    "            \"energies\": energies,\n",
    "            \"states\": states,\n",
    "            \"forces\": forces,\n",
    "        })\n",
    "        \n",
    "        if termination == \"growth\":\n",
    "            if energy_init < eng[j]:\n",
    "                states.pop()\n",
    "                energies.pop()\n",
    "                forces.pop()\n",
    "                break\n",
    "        elif termination == \"etol\":\n",
    "            if abs(eng[j] - energy_init) < etol:\n",
    "                break\n",
    "        else:\n",
    "            raise ValueError(f\"Wrong termination criterion: {termination}\")\n",
    "        if iteration_count >= max_iter:\n",
    "            break\n",
    "    if not return_traj:\n",
    "        return {\"states\": states[-1:], \"energies\": energies[-1:]}\n",
    "    else:\n",
    "        return {\"states\": states, \"energies\": energies, \"forces\": forces}"
   ]
  },
  {
   "cell_type": "markdown",
   "metadata": {},
   "source": [
    "## Model setup"
   ]
  },
  {
   "cell_type": "code",
   "execution_count": 4,
   "metadata": {},
   "outputs": [
    {
     "name": "stderr",
     "output_type": "stream",
     "text": [
      "@> 4416 atoms and 1 coordinate set(s) were parsed in 0.13s.\n"
     ]
    },
    {
     "name": "stdout",
     "output_type": "stream",
     "text": [
      "/home/semyon/PycharmProjects/DiplomaPython/data/may_complex/1dfj.pdb\n",
      "write PDB(prody): 0.0381 sec\n",
      "read PDB(openmm): 0.2993302345275879 sec\n"
     ]
    },
    {
     "name": "stderr",
     "output_type": "stream",
     "text": [
      "@> 8726 atoms and 1 coordinate set(s) were parsed in 0.06s.\n"
     ]
    },
    {
     "name": "stdout",
     "output_type": "stream",
     "text": [
      "add hydrogens and extra particles(openmm): 18.434768199920654 sec\n",
      "write PDB(openmm): 0.09213900566101074 sec\n",
      "1856 6870\n",
      "construction of a system: 1.5710911750793457 sec\n"
     ]
    },
    {
     "name": "stderr",
     "output_type": "stream",
     "text": [
      "@> Hessian was built in 7.83s.\n",
      "@> 10 modes were calculated in 20.03s.\n"
     ]
    },
    {
     "name": "stdout",
     "output_type": "stream",
     "text": [
      "INIT ENERGY: -29981.58122926692\n"
     ]
    }
   ],
   "source": [
    "path = str((project.data_path / \"may_complex\") / \"1dfj.pdb\")\n",
    "print(path)\n",
    "create_system(path, tmp_file=str(project.output_path / \"tmp_system.pdb\"))\n",
    "t0 = time.time()\n",
    "drs = DRSystem(str(project.output_path / \"tmp_system.pdb\"), 'amber14/protein.ff14SB.xml', refine=\"chain A\", static=\"chain B\")\n",
    "print(\"construction of a system:\", -t0 + time.time(), \"sec\")\n",
    "t0 = time.time()\n",
    "nmw1 = NMSpaceWrapper(drs, n_modes=10)\n",
    "print(\"INIT ENERGY:\", nmw1.get_energy())"
   ]
  },
  {
   "cell_type": "code",
   "execution_count": 5,
   "metadata": {},
   "outputs": [],
   "source": [
    "nmw1.set_position(np.zeros(10,))"
   ]
  },
  {
   "cell_type": "code",
   "execution_count": 6,
   "metadata": {},
   "outputs": [
    {
     "name": "stderr",
     "output_type": "stream",
     "text": [
      "@> Hessian was built in 0.80s.\n",
      "@> 10 modes were calculated in 23.43s.\n"
     ]
    }
   ],
   "source": [
    "nmw2 = NMSpaceWrapper(drs, n_modes=10, cutoff=4)"
   ]
  },
  {
   "cell_type": "markdown",
   "metadata": {},
   "source": [
    "## Tests"
   ]
  },
  {
   "cell_type": "code",
   "execution_count": 8,
   "metadata": {},
   "outputs": [],
   "source": [
    "def calc_center(m, weights=None):\n",
    "    n = m.shape[0]\n",
    "    m = m.reshape((n // 3, 3))\n",
    "    if weights is None:\n",
    "        return np.apply_along_axis(np.average, 0, m)\n",
    "    else:\n",
    "        return np.apply_along_axis(lambda x: np.average(x, weights=weights), 0, m)"
   ]
  },
  {
   "cell_type": "code",
   "execution_count": 26,
   "metadata": {},
   "outputs": [
    {
     "name": "stdout",
     "output_type": "stream",
     "text": [
      "1.521046477259055e-15\n",
      "7.190312379372309e-16\n",
      "9.999545806823713e-17\n",
      "5.717198892408634e-16\n",
      "4.3993788526774136e-16\n",
      "2.8029245073475843e-16\n",
      "3.765827804049881e-16\n",
      "2.3579353032804193e-16\n",
      "1.389263382343469e-16\n",
      "7.940449149251252e-17\n"
     ]
    }
   ],
   "source": [
    "modes = nmw2.get_modes()\n",
    "for m in modes:\n",
    "    print(np.linalg.norm(calc_center(m, weights=np.ones((len(m) // 3, )))))"
   ]
  },
  {
   "cell_type": "code",
   "execution_count": 16,
   "metadata": {},
   "outputs": [
    {
     "name": "stdout",
     "output_type": "stream",
     "text": [
      "geom [ 5.35085937 24.4358847   6.60488039]\n",
      "geom [ 5.35085937 24.4358847   6.60488039]\n",
      "geom [ 5.35085937 24.4358847   6.60488039]\n",
      "geom [ 5.35085937 24.4358847   6.60488039]\n",
      "geom [ 5.35085937 24.4358847   6.60488039]\n",
      "\n",
      "mass [ 5.3253999  24.37219457  6.65973308]\n",
      "mass [ 5.32417678 24.36898966  6.66014849]\n",
      "mass [ 5.32295366 24.36578476  6.66056389]\n",
      "mass [ 5.32173054 24.36257985  6.66097929]\n",
      "mass [ 5.32050743 24.35937494  6.6613947 ]\n"
     ]
    }
   ],
   "source": [
    "natoms = len(nmw2.get_system_position())\n",
    "x = np.arange(0, 1, 0.2) * natoms ** 0.5\n",
    "v = np.zeros((10,))\n",
    "v[0] = 1\n",
    "for xi in x:\n",
    "    nmw2.set_position(xi * v)\n",
    "    print(\"geom\", pdy.calcCenter(drs._refine_prot))\n",
    "nmw2.set_position(np.zeros((10,)))\n",
    "print()\n",
    "for xi in x:\n",
    "    nmw2.set_position(xi * v)\n",
    "    print(\"mass\", pdy.calcCenter(drs._refine_prot, weights=drs._refine_prot.getMasses()))\n",
    "nmw2.set_position(np.zeros((10,)))"
   ]
  },
  {
   "cell_type": "markdown",
   "metadata": {},
   "source": [
    "### Testing triplet wise cross product orthogonality for normal modes"
   ]
  },
  {
   "cell_type": "code",
   "execution_count": 22,
   "metadata": {},
   "outputs": [
    {
     "name": "stdout",
     "output_type": "stream",
     "text": [
      "[-1.41288461e-05 -5.24650573e-07  8.68634828e-08]\n",
      "[7.03460279e-16 1.65935273e-16 1.83761052e-16]\n",
      "1.3552527156068805e-20\n",
      "1.1519648082658485e-19\n"
     ]
    }
   ],
   "source": [
    "mode1 = nmw2.get_modes()[0]\n",
    "mode2 = nmw2.get_modes()[1]\n",
    "thn = mode1.shape[0]\n",
    "mode1 = np.reshape(mode1, (thn // 3, 3))\n",
    "mode2 = np.reshape(mode2, (thn // 3, 3))\n",
    "cross_mode = []\n",
    "for i in range(thn // 3):\n",
    "    cross_mode.append(np.cross(mode1[i], mode2[i]))\n",
    "cross_mode = np.array(cross_mode).reshape((thn,))\n",
    "print(calc_center(cross_mode))\n",
    "print(calc_center(nmw2.get_modes()[1]))\n",
    "print(np.dot(cross_mode, mode1.reshape((thn,))))\n",
    "print(np.dot(cross_mode, mode2.reshape((thn,))))"
   ]
  },
  {
   "cell_type": "markdown",
   "metadata": {},
   "source": [
    "### Testing pairwise distance"
   ]
  },
  {
   "cell_type": "code",
   "execution_count": 17,
   "metadata": {},
   "outputs": [
    {
     "name": "stdout",
     "output_type": "stream",
     "text": [
      "Trajectory info:\n",
      "\tnumber of states: 60\n",
      "\ttemporary file: /home/semyon/PycharmProjects/DiplomaPython/output/tmp_system.pdb\n",
      "\touput file: /home/semyon/PycharmProjects/DiplomaPython/output/trajectory.pdb\n",
      "creating trajectory: 1.7%\n",
      "creating trajectory: 10.0%\n",
      "creating trajectory: 18.3%\n",
      "creating trajectory: 26.7%\n",
      "creating trajectory: 35.0%\n",
      "creating trajectory: 43.3%\n",
      "creating trajectory: 51.7%\n",
      "creating trajectory: 60.0%\n",
      "creating trajectory: 68.3%\n",
      "creating trajectory: 76.7%\n",
      "creating trajectory: 85.0%\n",
      "creating trajectory: 93.3%\n",
      "Saving trajectory...\n",
      "Done!\n"
     ]
    }
   ],
   "source": [
    "# test modes\n",
    "natoms = len(nmw2.get_system_position())\n",
    "alpha = 1.5\n",
    "x = np.arange(0, alpha, 0.1)\n",
    "x = np.concatenate((x, np.flip(x), -x, np.flip(-x)))\n",
    "coords = []\n",
    "pos = np.random.uniform(-1, 1, 10)\n",
    "pos = pos / np.linalg.norm(pos)\n",
    "for g in x:\n",
    "    nmw2.set_position(g * natoms ** 0.5 * pos)\n",
    "    coords.append(nmw2.get_system_position())\n",
    "tmp_file = project.output_path / \"tmp_system.pdb\"\n",
    "output_file = project.output_path / \"trajectory.pdb\"\n",
    "save_trajectory(drs, coords, tmp_file=tmp_file, output_file=output_file, log=sys.stdout)"
   ]
  },
  {
   "cell_type": "code",
   "execution_count": null,
   "metadata": {},
   "outputs": [],
   "source": [
    "single_upper_bound = 1 #\n",
    "modes = nmw1.get_modes()\n",
    "max_values = []\n",
    "for i in range(10):\n",
    "    mode_xyz = modes[i].reshape((len(modes[i]) // 3, 3))\n",
    "    max_values.append(single_upper_bound / np.max(np.apply_along_axis(np.linalg.norm, 1, mode_xyz)))\n",
    "fig, ax = plt.subplots()\n",
    "ax.set_xlabel(\"Mode number\")\n",
    "ax.set_ylabel(\"Maximum rmsd upper bound for each mode\")\n",
    "ax.set_xticks(np.arange(1, 11, 1))\n",
    "ax.set_yticks(np.arange(0, 10, 0.4))\n",
    "ax.bar(np.arange(1, 11, 1), max_values)"
   ]
  },
  {
   "cell_type": "code",
   "execution_count": null,
   "metadata": {},
   "outputs": [],
   "source": [
    "pos = nmw1.get_system_position()\n",
    "print(pos.shape)\n",
    "pair_dist = []\n",
    "for i in range(1, pos.shape[0]):\n",
    "    pair_dist.append(np.linalg.norm(pos[i] - pos[i-1]))\n",
    "print(np.max(pair_dist))"
   ]
  },
  {
   "cell_type": "markdown",
   "metadata": {},
   "source": [
    "### Random test"
   ]
  },
  {
   "cell_type": "code",
   "execution_count": null,
   "metadata": {},
   "outputs": [],
   "source": [
    "natoms = len(nmw1.get_system_position())\n",
    "weights = np.ones((natoms,))"
   ]
  },
  {
   "cell_type": "code",
   "execution_count": null,
   "metadata": {},
   "outputs": [],
   "source": [
    "# random noise\n",
    "preset_rmsd = .7\n",
    "\n",
    "# mu = a * mu_0\n",
    "# preset_rmsd = |a| (np.dot(mu_0, mu_0) / natoms) ** 0.5 => \n",
    "# => a = (preset_rmsd ** 2 * natoms / np.dot(mu_0, mu_0)) ** 0.5\n",
    "\n",
    "mu = np.random.normal(0, 1, 10)\n",
    "mu = (preset_rmsd ** 2 * natoms / np.dot(mu, mu)) ** 0.5 * mu\n",
    "nmw1.set_position(np.zeros(10,))\n",
    "x1 = nmw1.get_system_position().copy()\n",
    "nmw1.set_position(mu)\n",
    "x2 = nmw1.get_system_position().copy()\n",
    "print(\"RMSD INIT:\", rmsd(x1, x2, weights))\n",
    "print(\"RANDOM ENERGY:\", nmw1.get_energy())\n",
    "print(\"NM VECTOR:\", mu)\n",
    "pdy.writePDB(str(project.output_path / \"shifted_6.0.pdb\"), drs._refine_prot)"
   ]
  },
  {
   "cell_type": "code",
   "execution_count": null,
   "metadata": {
    "scrolled": true
   },
   "outputs": [],
   "source": [
    "nmw2 = NMSpaceWrapper(drs, n_modes=10)"
   ]
  },
  {
   "cell_type": "code",
   "execution_count": null,
   "metadata": {},
   "outputs": [],
   "source": [
    "old_coords = nmw2.get_system_position().copy()"
   ]
  },
  {
   "cell_type": "code",
   "execution_count": null,
   "metadata": {},
   "outputs": [],
   "source": [
    "nmw2.set_position(np.zeros((10,)))"
   ]
  },
  {
   "cell_type": "markdown",
   "metadata": {},
   "source": [
    "### Test descent"
   ]
  },
  {
   "cell_type": "code",
   "execution_count": 7,
   "metadata": {},
   "outputs": [
    {
     "name": "stdout",
     "output_type": "stream",
     "text": [
      "/home/semyon/PycharmProjects/DiplomaPython/data/may_complex/1dfj.pdb\n"
     ]
    },
    {
     "name": "stderr",
     "output_type": "stream",
     "text": [
      "@> 4416 atoms and 1 coordinate set(s) were parsed in 0.05s.\n"
     ]
    },
    {
     "name": "stdout",
     "output_type": "stream",
     "text": [
      "write PDB(prody): 0.0347 sec\n",
      "read PDB(openmm): 0.31346821784973145 sec\n",
      "add hydrogens and extra particles(openmm): 18.66754961013794 sec\n",
      "write PDB(openmm): 0.10308432579040527 sec\n"
     ]
    },
    {
     "name": "stderr",
     "output_type": "stream",
     "text": [
      "@> 8726 atoms and 1 coordinate set(s) were parsed in 0.07s.\n"
     ]
    },
    {
     "name": "stdout",
     "output_type": "stream",
     "text": [
      "1856 6870\n",
      "construction of a system: 1.430229902267456 sec\n"
     ]
    },
    {
     "name": "stderr",
     "output_type": "stream",
     "text": [
      "@> Hessian was built in 7.60s.\n",
      "@> 10 modes were calculated in 14.34s.\n"
     ]
    },
    {
     "name": "stdout",
     "output_type": "stream",
     "text": [
      "INIT ENERGY: -30170.72324883641\n",
      "rmsd init: 0.3\n",
      "RANDOM ENERGY: -4262.350630371911\n"
     ]
    },
    {
     "name": "stderr",
     "output_type": "stream",
     "text": [
      "@> Hessian was built in 7.62s.\n",
      "@> 10 modes were calculated in 14.29s.\n"
     ]
    },
    {
     "name": "stdout",
     "output_type": "stream",
     "text": [
      "\n",
      "(main) CYCLE START\n",
      "\n",
      "\t(line) energy: 14813.024181660716\n",
      "\t(line) energy: 3601.7601291527826\n",
      "\t(line) energy: -4486.536335985606\n",
      "\t(line) energy: -10220.3917981376\n",
      "\t(line) energy: -14196.751978691638\n",
      "\t(line) energy: -16864.749636297325\n",
      "\t(line) energy: -18553.19396886926\n",
      "\t(line) energy: -19502.820880761064\n",
      "\t(line) energy: -19892.13892709113\n",
      "\t(line) energy: -19858.320577986597\n",
      "\t(line) energy: -19518.534205922544\n",
      "\t(line) energy: -18974.415594641694\n",
      "(main) optimum:\n",
      "       index: 9\n",
      "       energy: -19892.13892709113\n",
      "       force: 5670.999875768754\n",
      "       upper_bound: 0.11343807013483424\n",
      "\n",
      "(main) CYCLE START\n",
      "\n",
      "\t(line) energy: -13938.855489357637\n",
      "\t(line) energy: -15347.425521372446\n",
      "\t(line) energy: -16458.872640936148\n",
      "\t(line) energy: -17327.12806017592\n",
      "\t(line) energy: -18001.47565774252\n",
      "\t(line) energy: -18523.24603125399\n",
      "\t(line) energy: -18925.59842213249\n",
      "\t(line) energy: -19234.60770599141\n",
      "\t(line) energy: -19470.66110954483\n",
      "\t(line) energy: -19649.67394208115\n",
      "\t(line) energy: -19784.098233482066\n",
      "\t(line) energy: -19883.730931257407\n",
      "\t(line) energy: -19956.26251233231\n",
      "\t(line) energy: -20007.763127120685\n",
      "\t(line) energy: -20043.011255231242\n",
      "\t(line) energy: -20065.791300098426\n",
      "\t(line) energy: -20079.057912336553\n",
      "\t(line) energy: -20085.158502613303\n",
      "\t(line) energy: -20085.93136272663\n",
      "\t(line) energy: -20082.804717721876\n",
      "\t(line) energy: -20076.897597343166\n",
      "\t(line) energy: -20069.079736981745\n",
      "(main) optimum:\n",
      "       index: 19\n",
      "       energy: -20085.93136272663\n",
      "       force: 6640.842248053416\n",
      "       upper_bound: 0.01794744969229633\n",
      "\n",
      "(main) CYCLE START\n",
      "\n",
      "\t(line) energy: -20221.835202623988\n",
      "\t(line) energy: -20236.364177146752\n",
      "\t(line) energy: -20244.370237834126\n",
      "\t(line) energy: -20247.39397253201\n",
      "\t(line) energy: -20246.66762782765\n",
      "\t(line) energy: -20243.179802926286\n",
      "\t(line) energy: -20237.709358476553\n",
      "(main) optimum:\n",
      "       index: 4\n",
      "       energy: -20247.39397253201\n",
      "       force: 5044.765694033352\n",
      "       upper_bound: 0.013791421070203523\n",
      "\n",
      "(main) CYCLE START\n",
      "\n",
      "\t(line) energy: -20384.256569480247\n",
      "\t(line) energy: -20382.530885890345\n",
      "\t(line) energy: -20378.702474166348\n",
      "\t(line) energy: -20373.41951787492\n",
      "(main) optimum:\n",
      "       index: 1\n",
      "       energy: -20384.256569480247\n",
      "       force: 5232.403015114702\n",
      "       upper_bound: 0.014537434250760027\n",
      "\n",
      "(main) CYCLE START\n",
      "\n",
      "\t(line) energy: -20492.96936113258\n",
      "\t(line) energy: -20497.931527141904\n",
      "\t(line) energy: -20499.521496255285\n",
      "\t(line) energy: -20498.59184497413\n",
      "\t(line) energy: -20495.82393419303\n",
      "\t(line) energy: -20491.747467783636\n",
      "(main) optimum:\n",
      "       index: 3\n",
      "       energy: -20499.521496255285\n",
      "       force: 4392.382977785794\n",
      "       upper_bound: 0.012412278963183171\n",
      "\n",
      "(main) CYCLE START\n",
      "\n",
      "\t(line) energy: -20601.193730623432\n",
      "\t(line) energy: -20600.89242163069\n",
      "\t(line) energy: -20598.750473949825\n",
      "\t(line) energy: -20595.301023154796\n",
      "(main) optimum:\n",
      "       index: 1\n",
      "       energy: -20601.193730623432\n",
      "       force: 4542.861588256994\n",
      "       upper_bound: 0.013083690825684025\n",
      "\n",
      "(main) CYCLE START\n",
      "\n",
      "\t(line) energy: -20687.500413290603\n",
      "\t(line) energy: -20691.452855541735\n",
      "\t(line) energy: -20692.6680604812\n",
      "\t(line) energy: -20691.863157043816\n",
      "\t(line) energy: -20689.578751083478\n",
      "\t(line) energy: -20686.258462439255\n",
      "(main) optimum:\n",
      "       index: 3\n",
      "       energy: -20692.6680604812\n",
      "       force: 3807.020604025109\n",
      "       upper_bound: 0.011171051066864853\n",
      "\n",
      "(main) CYCLE START\n",
      "\n",
      "\t(line) energy: -20775.11819453587\n",
      "\t(line) energy: -20774.287384015042\n",
      "\t(line) energy: -20772.126517038436\n",
      "\t(line) energy: -20769.044038441672\n",
      "(main) optimum:\n",
      "       index: 1\n",
      "       energy: -20775.11819453587\n",
      "       force: 3976.0182654179594\n",
      "       upper_bound: 0.011775321743115621\n",
      "\n",
      "(main) CYCLE START\n",
      "\n",
      "\t(line) energy: -20847.129425534804\n",
      "\t(line) energy: -20849.6700404473\n",
      "\t(line) energy: -20850.115803339002\n",
      "\t(line) energy: -20849.029377160034\n",
      "\t(line) energy: -20846.840412953607\n",
      "\t(line) energy: -20843.891545996856\n",
      "(main) optimum:\n",
      "       index: 3\n",
      "       energy: -20850.115803339002\n",
      "       force: 3380.6896474072873\n",
      "       upper_bound: 0.010053945960178369\n",
      "\n",
      "(main) CYCLE START\n",
      "\n",
      "\t(line) energy: -20919.491152120412\n",
      "\t(line) energy: -20918.15850918161\n",
      "\t(line) energy: -20915.898682920844\n",
      "(main) optimum:\n",
      "       index: 0\n",
      "       energy: -20919.509839931357\n",
      "       force: 3915.4865754084376\n",
      "       upper_bound: 0.011775321743115625\n",
      "\n",
      "(main) CYCLE START\n",
      "\n",
      "\t(line) energy: -20977.655835042417\n",
      "\t(line) energy: -20982.669752509028\n",
      "\t(line) energy: -20985.124306940743\n",
      "\t(line) energy: -20985.67234232377\n",
      "\t(line) energy: -20984.81113080852\n",
      "\t(line) energy: -20982.949319836553\n",
      "\t(line) energy: -20980.38219470707\n",
      "(main) optimum:\n",
      "       index: 4\n",
      "       energy: -20985.67234232377\n",
      "       force: 2952.734093221536\n",
      "       upper_bound: 0.009048551364160533\n",
      "\n",
      "(main) CYCLE START\n",
      "\n",
      "\t(line) energy: -21046.02923758379\n",
      "\t(line) energy: -21043.877237867404\n",
      "\t(line) energy: -21041.20434763364\n",
      "(main) optimum:\n",
      "       index: 0\n",
      "       energy: -21047.40618064688\n",
      "       force: 3424.19755842522\n",
      "       upper_bound: 0.010597789568804063\n",
      "\n",
      "(main) CYCLE START\n",
      "\n",
      "\t(line) energy: -21097.717687634125\n",
      "\t(line) energy: -21100.83067710988\n",
      "\t(line) energy: -21102.079496010418\n",
      "\t(line) energy: -21101.951439049255\n",
      "\t(line) energy: -21100.820770556187\n",
      "\t(line) energy: -21098.98348277915\n",
      "(main) optimum:\n",
      "       index: 3\n",
      "       energy: -21102.079496010418\n",
      "       force: 3002.0874017487877\n",
      "       upper_bound: 0.009048551364160533\n",
      "\n",
      "(main) CYCLE START\n",
      "\n",
      "\t(line) energy: -21151.973776721003\n",
      "\t(line) energy: -21151.964159190415\n",
      "\t(line) energy: -21151.00901185046\n",
      "\t(line) energy: -21149.390449109866\n",
      "(main) optimum:\n",
      "       index: 1\n",
      "       energy: -21151.973776721003\n",
      "       force: 3194.916653278802\n",
      "       upper_bound: 0.009538010611923657\n",
      "\n",
      "(main) CYCLE START\n",
      "\n",
      "\t(line) energy: -21197.06543116526\n",
      "\t(line) energy: -21199.147174976453\n",
      "\t(line) energy: -21199.764914409738\n",
      "\t(line) energy: -21199.30506285245\n",
      "\t(line) energy: -21198.072966280422\n",
      "\t(line) energy: -21196.29068862481\n",
      "(main) optimum:\n",
      "       index: 3\n",
      "       energy: -21199.764914409738\n",
      "       force: 2702.3274004068803\n",
      "       upper_bound: 0.00814369622774448\n",
      "\n",
      "(main) CYCLE START\n",
      "\n",
      "\t(line) energy: -21244.335597980753\n",
      "\t(line) energy: -21243.54191370969\n",
      "\t(line) energy: -21242.131924959467\n",
      "\t(line) energy: -21240.301919901947\n",
      "(main) optimum:\n",
      "       index: 1\n",
      "       energy: -21244.335597980753\n",
      "       force: 2858.1743783354236\n",
      "       upper_bound: 0.008584209550731291\n",
      "\n",
      "(main) CYCLE START\n",
      "\n",
      "\t(line) energy: -21284.987350611525\n",
      "\t(line) energy: -21285.83853921856\n",
      "\t(line) energy: -21285.666590927678\n",
      "\t(line) energy: -21284.757929610074\n",
      "\t(line) energy: -21283.32137493971\n",
      "(main) optimum:\n",
      "       index: 2\n",
      "       energy: -21285.83853921856\n",
      "       force: 2736.7749351466787\n",
      "       upper_bound: 0.00814369622774448\n",
      "\n",
      "(main) CYCLE START\n",
      "\n",
      "\t(line) energy: -21324.59020781483\n",
      "\t(line) energy: -21324.997773231888\n",
      "\t(line) energy: -21324.55685291932\n",
      "\t(line) energy: -21323.499699034786\n",
      "\t(line) energy: -21322.012450934533\n",
      "(main) optimum:\n",
      "       index: 2\n",
      "       energy: -21324.997773231888\n",
      "       force: 2602.758941886638\n",
      "       upper_bound: 0.007725788595658161\n",
      "\n",
      "(main) CYCLE START\n",
      "\n",
      "\t(line) energy: -21362.25739087937\n",
      "\t(line) energy: -21362.205929870295\n",
      "\t(line) energy: -21361.458058315824\n",
      "\t(line) energy: -21360.21963789328\n",
      "(main) optimum:\n",
      "       index: 1\n",
      "       energy: -21362.25739087937\n",
      "       force: 2749.269092174957\n",
      "       upper_bound: 0.00814369622774448\n",
      "\n",
      "(main) CYCLE START\n",
      "\n",
      "\t(line) energy: -21396.751472991557\n",
      "\t(line) energy: -21398.00716912604\n",
      "\t(line) energy: -21398.24805472017\n",
      "\t(line) energy: -21397.734448472373\n",
      "\t(line) energy: -21396.69062039668\n",
      "\t(line) energy: -21395.273328586467\n",
      "(main) optimum:\n",
      "       index: 3\n",
      "       energy: -21398.24805472017\n",
      "       force: 2335.4261879296328\n",
      "       upper_bound: 0.006953209736092344\n",
      "\n",
      "(main) CYCLE START\n",
      "\n",
      "\t(line) energy: -21432.960740328104\n",
      "\t(line) energy: -21432.036257309846\n",
      "\t(line) energy: -21430.719368168153\n",
      "(main) optimum:\n",
      "       index: 0\n",
      "       energy: -21433.321061454495\n",
      "       force: 2715.131092219227\n",
      "       upper_bound: 0.008143696227744477\n",
      "\n",
      "(main) CYCLE START\n",
      "\n",
      "\t(line) energy: -21464.36044092651\n",
      "\t(line) energy: -21466.17191731376\n",
      "\t(line) energy: -21466.878218412778\n",
      "\t(line) energy: -21466.750981524485\n",
      "\t(line) energy: -21466.028751410784\n",
      "\t(line) energy: -21464.875148977488\n",
      "(main) optimum:\n",
      "       index: 3\n",
      "       energy: -21466.878218412778\n"
     ]
    },
    {
     "name": "stdout",
     "output_type": "stream",
     "text": [
      "       force: 2325.672232503767\n",
      "       upper_bound: 0.006953209736092344\n",
      "\n",
      "(main) CYCLE START\n",
      "\n"
     ]
    }
   ],
   "source": [
    "# mutiprocessing\n",
    "obj_q = Queue(maxsize=20)\n",
    "full_list = []\n",
    "# it is impossible to pickle drs system => can not be transfered between processes\n",
    "\n",
    "# gradient descent process\n",
    "uprocess = Process(target=confined_gradient_descent, args=(obj_q,),\n",
    "                   kwargs={\"relative_bounds\": (0.001, 0.25),\n",
    "                           \"decrement\": 0.9,\n",
    "                           \"max_iter\": 100,\n",
    "                           \"return_traj\": True,\n",
    "                           \"termination\": \"growth\",\n",
    "                          }, daemon=True)\n",
    "uprocess.start()"
   ]
  },
  {
   "cell_type": "code",
   "execution_count": 10,
   "metadata": {},
   "outputs": [],
   "source": [
    "# terminate the process\n",
    "uprocess.terminate()"
   ]
  },
  {
   "cell_type": "code",
   "execution_count": 9,
   "metadata": {},
   "outputs": [
    {
     "name": "stdout",
     "output_type": "stream",
     "text": [
      "Using matplotlib backend: TkAgg\n"
     ]
    }
   ],
   "source": [
    "# connect to descent output\n",
    "%matplotlib\n",
    "fig, ax = plt.subplots(2, 2, figsize=(10, 10))\n",
    "\n",
    "animation_on = True\n",
    "\n",
    "def animate(i):\n",
    "    global full_list, objects\n",
    "    if not animation_on:\n",
    "        return\n",
    "    try:\n",
    "        obj = obj_q.get(False)\n",
    "        if \"energies\" in obj:\n",
    "            full_list.append(obj)\n",
    "            ax[0, 0].clear()\n",
    "            ax[0, 1].clear()\n",
    "            ax[1, 0].clear()\n",
    "            ax[0, 0].set_title(\"Energy (main)\")\n",
    "            ax[0, 1].set_title(\"RMSD (main)\")\n",
    "            ax[1, 0].set_title(\"Force (main)\")\n",
    "            n = len(obj[\"energies\"])\n",
    "            m = len(obj[\"forces\"])\n",
    "            k = len(obj[\"states\"])\n",
    "            if len(obj[\"energies\"]) > 0:\n",
    "                ax[0, 0].scatter(np.arange(0, n, 1), obj[\"energies\"])\n",
    "                state_0 = obj[\"states\"][0]\n",
    "                weights = np.ones((len(state_0),))\n",
    "                ax[0, 1].scatter(np.arange(0, k, 1), [rmsd(state_0, s, weights) for s in obj[\"states\"]])\n",
    "                forces = obj[\"forces\"]\n",
    "                ax[1, 0].scatter(np.arange(0, m - 1, 1),\n",
    "                        [(np.dot(forces[u], forces[u - 1]) /\n",
    "                          np.linalg.norm(forces[u]) /\n",
    "                          np.linalg.norm(forces[u - 1])) for u in range(1, m)])\n",
    "        elif \"energies_line\" in obj:\n",
    "            ax[1, 1].clear()\n",
    "            ax[1, 1].set_title(\"Energy (line)\")\n",
    "            n = len(obj[\"energies_line\"])\n",
    "            if n > 0:\n",
    "                ax[1, 1].scatter(np.arange(0, n, 1), obj[\"energies_line\"])\n",
    "    except Empty:\n",
    "        pass\n",
    "anim = animation.FuncAnimation(fig, animate, 200)"
   ]
  },
  {
   "cell_type": "code",
   "execution_count": null,
   "metadata": {},
   "outputs": [],
   "source": [
    "# pause the animation\n",
    "animation_on = False"
   ]
  },
  {
   "cell_type": "code",
   "execution_count": null,
   "metadata": {},
   "outputs": [],
   "source": [
    "# or resume the animation\n",
    "animation_on = True"
   ]
  },
  {
   "cell_type": "code",
   "execution_count": null,
   "metadata": {},
   "outputs": [],
   "source": [
    "# CA comparison\n",
    "calpha_0 = drs._refine_prot_init.select(\"calpha\").copy()\n",
    "nmw2.set_position(np.zeros(10,))\n",
    "calpha_1 = drs._refine_prot.select(\"calpha\").copy()\n",
    "nmw2.set_position(opt_pos)\n",
    "calpha_2 = drs._refine_prot.select(\"calpha\").copy()\n",
    "\n",
    "nca = len(calpha_0)\n",
    "print(nca)\n",
    "weights1 = np.ones((nca,))"
   ]
  },
  {
   "cell_type": "code",
   "execution_count": null,
   "metadata": {},
   "outputs": [],
   "source": [
    "print(\"01\", rmsd(calpha_0.getCoords(), calpha_1.getCoords(), weights1))\n",
    "print(\"02\", rmsd(calpha_0.getCoords(), calpha_2.getCoords(), weights1))\n",
    "print(\"12\", rmsd(calpha_1.getCoords(), calpha_2.getCoords(), weights1))"
   ]
  },
  {
   "cell_type": "markdown",
   "metadata": {},
   "source": [
    "## Save trajectories\n",
    " 1) save all states\n",
    " \n",
    " 2) read them with mdtraj\n",
    " \n",
    " 3) save them as .xtc\n",
    " \n",
    " 4) enjoy your trajectories in VMD!!!"
   ]
  },
  {
   "cell_type": "code",
   "execution_count": 11,
   "metadata": {},
   "outputs": [
    {
     "name": "stderr",
     "output_type": "stream",
     "text": [
      "@> 8726 atoms and 1 coordinate set(s) were parsed in 0.07s.\n"
     ]
    },
    {
     "name": "stdout",
     "output_type": "stream",
     "text": [
      "1856 6870\n"
     ]
    }
   ],
   "source": [
    "drs = DRSystem(str(project.output_path / \"tmp_system.pdb\"), 'amber14/protein.ff14SB.xml', refine=\"chain A\", static=\"chain B\")"
   ]
  },
  {
   "cell_type": "code",
   "execution_count": 12,
   "metadata": {},
   "outputs": [],
   "source": [
    "full_list = full_list[27:]"
   ]
  },
  {
   "cell_type": "code",
   "execution_count": 13,
   "metadata": {
    "collapsed": true
   },
   "outputs": [
    {
     "name": "stdout",
     "output_type": "stream",
     "text": [
      "(1, 8726, 3)\n",
      "(2, 8726, 3)\n",
      "(3, 8726, 3)\n",
      "(4, 8726, 3)\n",
      "(5, 8726, 3)\n",
      "(6, 8726, 3)\n",
      "(7, 8726, 3)\n",
      "(8, 8726, 3)\n",
      "(9, 8726, 3)\n",
      "(10, 8726, 3)\n",
      "(11, 8726, 3)\n",
      "(12, 8726, 3)\n",
      "(13, 8726, 3)\n",
      "(14, 8726, 3)\n",
      "(15, 8726, 3)\n",
      "(16, 8726, 3)\n",
      "(17, 8726, 3)\n",
      "(18, 8726, 3)\n",
      "(19, 8726, 3)\n",
      "(20, 8726, 3)\n",
      "(21, 8726, 3)\n",
      "(22, 8726, 3)\n",
      "(23, 8726, 3)\n",
      "(24, 8726, 3)\n",
      "(25, 8726, 3)\n",
      "(26, 8726, 3)\n",
      "(27, 8726, 3)\n",
      "(28, 8726, 3)\n",
      "(29, 8726, 3)\n",
      "(30, 8726, 3)\n",
      "(31, 8726, 3)\n",
      "(32, 8726, 3)\n",
      "(33, 8726, 3)\n",
      "(34, 8726, 3)\n",
      "(35, 8726, 3)\n",
      "(36, 8726, 3)\n",
      "(37, 8726, 3)\n",
      "(38, 8726, 3)\n",
      "(39, 8726, 3)\n",
      "(40, 8726, 3)\n",
      "(41, 8726, 3)\n",
      "(42, 8726, 3)\n",
      "(43, 8726, 3)\n",
      "(44, 8726, 3)\n",
      "(45, 8726, 3)\n",
      "(46, 8726, 3)\n",
      "(47, 8726, 3)\n",
      "(48, 8726, 3)\n",
      "(49, 8726, 3)\n",
      "(50, 8726, 3)\n",
      "(51, 8726, 3)\n",
      "(52, 8726, 3)\n",
      "(53, 8726, 3)\n",
      "(54, 8726, 3)\n",
      "(55, 8726, 3)\n",
      "(56, 8726, 3)\n",
      "(57, 8726, 3)\n",
      "(58, 8726, 3)\n",
      "(59, 8726, 3)\n",
      "(60, 8726, 3)\n",
      "(61, 8726, 3)\n",
      "(62, 8726, 3)\n",
      "(63, 8726, 3)\n",
      "(64, 8726, 3)\n",
      "(65, 8726, 3)\n",
      "(66, 8726, 3)\n",
      "(67, 8726, 3)\n",
      "(68, 8726, 3)\n",
      "(69, 8726, 3)\n",
      "(70, 8726, 3)\n",
      "(71, 8726, 3)\n",
      "(72, 8726, 3)\n",
      "(73, 8726, 3)\n",
      "(74, 8726, 3)\n"
     ]
    }
   ],
   "source": [
    "n_states = len(full_list)\n",
    "\n",
    "trj = None\n",
    "for i in range(n_states):\n",
    "    drs.set_position(full_list[i][\"states\"][i])\n",
    "    with open(project.output_path / \"inter_pdb.pdb\", \"w\") as input_file:\n",
    "        drs._omm_protein.writeFile(positions=drs._omm_protein.positions,\n",
    "                                   topology=drs._omm_protein.topology,\n",
    "                                   file=input_file)\n",
    "    if trj is not None:\n",
    "        trj = trj.join(mdt.load(str(project.output_path / \"inter_pdb.pdb\")))\n",
    "    else:\n",
    "        trj = mdt.load(str(project.output_path / \"inter_pdb.pdb\"))\n",
    "    print(trj.xyz.shape)"
   ]
  },
  {
   "cell_type": "code",
   "execution_count": 14,
   "metadata": {},
   "outputs": [],
   "source": [
    "trj.save_pdb(str(project.output_path / \"trajectory.pdb\"))"
   ]
  },
  {
   "cell_type": "markdown",
   "metadata": {},
   "source": [
    "## WARNING: it is an abandoned code down there."
   ]
  },
  {
   "cell_type": "code",
   "execution_count": null,
   "metadata": {},
   "outputs": [],
   "source": [
    "# from time to time\n",
    "t0 = time.time()\n",
    "for i in range(1):\n",
    "    nmw1.get_energy()\n",
    "print(\"Energy computation takes:\", (time.time() - t0) / 10, \"sec\")\n",
    "t0 = time.time()\n",
    "for i in range(10):\n",
    "    state = nmw1._system._simulation.context.getState(getEnergy=True)\n",
    "    state.getPotentialEnergy().value_in_unit(kilojoule_per_mole)\n",
    "print(\"Pure energy computation takes:\", (time.time() - t0) / 10, \"sec\")\n",
    "t0 = time.time()\n",
    "for i in range(10):\n",
    "    nmw1.get_force()\n",
    "print(\"Force computation takes:\", (time.time() - t0) / 10, \"sec\")\n",
    "t0 = time.time()\n",
    "for i in range(10):\n",
    "    nmw1.set_position(np.random.normal(0.0, 2, 10))\n",
    "print(\"NM space position update takes:\", (time.time() - t0) / 10, \"sec\")"
   ]
  },
  {
   "cell_type": "raw",
   "metadata": {},
   "source": [
    "def confined_gradient_descent(\n",
    "        nmw, decrement=0.9, termination=\"growth\",\n",
    "        absolute_bound=float(\"inf\"), relative_bounds=(0.01, 7.0), etol=1, max_iter=100, return_traj=False):\n",
    "    \"\"\"\n",
    "    Performs gradient descent of a system with respect to a special confinement.\n",
    "\n",
    "    @param nmw: system to optimize.\n",
    "    @type nmw: NMSpaceWrapper\n",
    "    @param decrement: fold step when choosing optimal step.\n",
    "    @type decrement: float\n",
    "    @param termination: termination condition.\n",
    "    @type termination: str\n",
    "    @param absolute_bound: maximum rmsd between inital state and any intermediate state.\n",
    "    @type absolute_bound: float\n",
    "    @param relative_bounds: minimum and maximum rmsd between actual state and the next one.\n",
    "    @type relative_bounds: tuple\n",
    "    @param etol: terminates when |E(i+1) - E(i)| < etol\n",
    "    @type etol: float\n",
    "    @param max_iter: maximum number of iterations\n",
    "    @type max_iter: int\n",
    "    @param return_traj: if true all intermediate states, energies and forces are returned.\n",
    "        Otherwise, the function returns only final record.\n",
    "    @type return_traj: bool\n",
    "    @return: dictionary containing all the results.\n",
    "        \"states\" - list of all states along optimization path.\n",
    "        \"energies\" - list of all energies along optimization path.\n",
    "        \"forces\" - list of all forces along optimization path.\n",
    "    @rtype: dict\n",
    "    \"\"\"\n",
    "\n",
    "    # matplotlib\n",
    "    %matplotlib\n",
    "    plt.ion()\n",
    "    fig, ax = plt.subplots(3, 2, figsize=(12, 12))\n",
    "    ax[0, 0].set_title(\"Energy (main)\")\n",
    "    ax[1, 0].set_title(\"RMSD (main)\")\n",
    "    ax[2, 0].set_title(\"Force (main)\")\n",
    "    ax[0, 1].set_title(\"Energy (line)\")\n",
    "    \n",
    "    # number of modes\n",
    "    m = len(nmw.get_eigenvalues())\n",
    "\n",
    "    # number of atoms\n",
    "    n = len(nmw.get_system_position())\n",
    "\n",
    "    # modes\n",
    "    modes = nmw.get_modes()\n",
    "\n",
    "    # special values\n",
    "    ru_bound_value = n * relative_bounds[1] ** 2\n",
    "    rl_bound_value = n * relative_bounds[0] ** 2\n",
    "    a_bound_value = n * absolute_bound ** 2\n",
    "\n",
    "    # initial state\n",
    "    iteration_count = 0\n",
    "    states = []\n",
    "    energies = []\n",
    "    forces = []\n",
    "\n",
    "    anti_gradient = None\n",
    "\n",
    "    energy_init = nmw.get_energy()\n",
    "\n",
    "    position_init = nmw.get_position().copy()\n",
    "    weights = np.ones((n,))\n",
    "    \n",
    "    energies.append(energy_init)\n",
    "    states.append(nmw.get_system_position().copy())\n",
    "    \n",
    "    # it is a weighted anti-gradient!\n",
    "    anti_gradient = nmw.get_force().copy()\n",
    "    forces.append(anti_gradient)\n",
    "    \n",
    "    # main cycle\n",
    "    while True:\n",
    "        print(\"\\n(main) CYCLE START\\n\")\n",
    "        \n",
    "        # find a step\n",
    "        a = np.dot(anti_gradient, anti_gradient)\n",
    "        upper_bound = (ru_bound_value / a) ** 0.5\n",
    "        lower_bound = (rl_bound_value / a) ** 0.5\n",
    "        print(\"bounds:\", lower_bound, \";\", upper_bound)\n",
    "\n",
    "        # find optimal step\n",
    "        folds = [1]\n",
    "        eng = []\n",
    "        ind = [0]\n",
    "        # check rmsd\n",
    "        x1 = nmw.get_system_position().copy()\n",
    "        nmw.set_position(folds[0] * upper_bound * anti_gradient + position_init)\n",
    "        x2 = nmw.get_system_position().copy()\n",
    "        print(\"(main) rmsd init:\", rmsd(x1, x2, weights))\n",
    "        \n",
    "        eng.append(nmw.get_energy())\n",
    "        score = 0\n",
    "        while True:\n",
    "            folds.append(folds[-1] * decrement)\n",
    "            ind.append(ind[-1] + 1)\n",
    "            if  folds[-1] * upper_bound <= lower_bound:\n",
    "                break\n",
    "            \n",
    "            # check rmsd\n",
    "            nmw.set_position(position_init)\n",
    "            x1 = nmw.get_system_position().copy()\n",
    "            nmw.set_position(folds[-1] * upper_bound * anti_gradient + position_init)\n",
    "            x2 = nmw.get_system_position().copy()\n",
    "            print(\"\\t(line) rmsd:\", rmsd(x1, x2, weights))\n",
    "            \n",
    "            eng.append(nmw.get_energy())\n",
    "            print(\"\\t       energy:\", eng[-1])\n",
    "            \n",
    "            # update polts\n",
    "            ax[0, 1].clear()\n",
    "            ax[0, 1].set_title(\"Energy (line)\")\n",
    "            ax[0, 1].plot(ind, eng)\n",
    "            fig.canvas.draw()\n",
    "            fig.canvas.flush_events()\n",
    "            \n",
    "            # exit condition\n",
    "            if energy_init > eng[-1] > eng[-2]:\n",
    "                score += 1\n",
    "            elif eng[-1] < eng[-2] or energy_init <= eng[-1]:\n",
    "                score = 0\n",
    "            if score >= 3:\n",
    "                break\n",
    "\n",
    "        # update state list\n",
    "        j = np.argmin(eng)\n",
    "        mu = folds[j] * upper_bound * anti_gradient\n",
    "        \n",
    "        # new initial states\n",
    "        position_init = mu + position_init\n",
    "        energy_init = eng[j]\n",
    "        \n",
    "        nmw.set_position(position_init)\n",
    "        x1 = nmw.get_system_position().copy()\n",
    "        nmw.set_position(position_init)\n",
    "        x2 = nmw.get_system_position().copy()\n",
    "        \n",
    "        # state energy force\n",
    "        states.append(nmw.get_system_position().copy())\n",
    "        energies.append(eng[j])\n",
    "        anti_gradient = nmw.get_force().copy()\n",
    "        forces.append(anti_gradient)\n",
    "        \n",
    "        # print results\n",
    "        print(\"(main) optimum:\")\n",
    "        print(\"       index:\", j)\n",
    "        print(\"       rmsd:\", rmsd(x1, x2, weights))\n",
    "        print(\"       energy:\", energies[-1])\n",
    "        print(\"       force:\", np.linalg.norm(forces[-1]))\n",
    "        \n",
    "        # adaptive upper bound\n",
    "        ru_bound_value = min(np.dot(mu, mu) / decrement ** 3, n * relative_bounds[1] ** 2)\n",
    "        print(\"       upper_bound:\", (ru_bound_value / n) ** 0.5)\n",
    "        \n",
    "        # update plots\n",
    "        indices = [i for i in range(len(energies))]\n",
    "        ax[0, 0].clear()\n",
    "        ax[1, 0].clear()\n",
    "        ax[2, 0].clear()\n",
    "        ax[0, 0].set_title(\"Energy (main)\")\n",
    "        ax[1, 0].set_title(\"RMSD (main)\")\n",
    "        ax[2, 0].set_title(\"Force (main)\")\n",
    "        ax[0, 0].plot(indices, energies)\n",
    "        ax[1, 0].plot(indices, [rmsd(states[0], state, weights) for state in states])\n",
    "        ax[2, 0].plot(indices, [np.linalg.norm(f) for f in forces])\n",
    "        fig.canvas.draw()\n",
    "        fig.canvas.flush_events()\n",
    "        \n",
    "        # termination\n",
    "        iteration_count += 1\n",
    "        if termination == \"growth\":\n",
    "            if energy_init < eng[j]:\n",
    "                states.pop()\n",
    "                energies.pop()\n",
    "                forces.pop()\n",
    "                break\n",
    "        elif termination == \"etol\":\n",
    "            if abs(eng[j] - energy_init) < etol:\n",
    "                break\n",
    "        else:\n",
    "            raise ValueError(f\"Wrong termination criterion: {termination}\")\n",
    "        if iteration_count >= max_iter:\n",
    "            break\n",
    "\n",
    "        \n",
    "    plt.ioff()\n",
    "    if not return_traj:\n",
    "        return {\"states\": states[-1:], \"energies\": energies[-1:]}\n",
    "    else:\n",
    "        return {\"states\": states, \"energies\": energies, \"forces\": forces}"
   ]
  },
  {
   "cell_type": "code",
   "execution_count": 92,
   "metadata": {},
   "outputs": [],
   "source": [
    "x = np.arange(2, 17.1, 1)\n",
    "y0 = np.array([3, 8, 11, 13, 18, 26, 39, 54, 67, 79, 102, 127, 147, 172, 200, 232])\n",
    "y1 = np.array([3, 4, 8, 14, 28, 48, 58, 77, 97, 111, 128, 165, 210, 252, 292, 332])\n",
    "y2 = np.array([4, 13, 25, 51, 95, 148, 213, 292, 411, 520, 678, 790, 945, 1056, 1178, 1287])"
   ]
  },
  {
   "cell_type": "code",
   "execution_count": 93,
   "metadata": {},
   "outputs": [
    {
     "name": "stdout",
     "output_type": "stream",
     "text": [
      "Using matplotlib backend: TkAgg\n"
     ]
    },
    {
     "data": {
      "text/plain": [
       "<matplotlib.collections.PathCollection at 0x7f5d9ccc9080>"
      ]
     },
     "execution_count": 93,
     "metadata": {},
     "output_type": "execute_result"
    }
   ],
   "source": [
    "%matplotlib\n",
    "fig, ax = plt.subplots()\n",
    "ax.scatter(x, y0 ** (1/3), color=\"grey\")\n",
    "ax.scatter(x, y1 ** (1/3), color=\"orange\")\n",
    "ax.scatter(x, y2 ** (1/3), color=\"green\")"
   ]
  },
  {
   "cell_type": "code",
   "execution_count": 39,
   "metadata": {},
   "outputs": [],
   "source": [
    "from scipy.optimize import least_squares\n",
    "res0 = least_squares(lambda a: (y0 - a[0] * x ** 3) ** 2, np.ones((1,)))\n",
    "res1 = least_squares(lambda a: (y1 - a[0] * x ** 3) ** 2, np.ones((1,)))\n",
    "res2 = least_squares(lambda a: (y2 - a[0] * x ** 3) ** 2, np.ones((1,)))"
   ]
  },
  {
   "cell_type": "code",
   "execution_count": 66,
   "metadata": {},
   "outputs": [
    {
     "name": "stdout",
     "output_type": "stream",
     "text": [
      "0.05069907949156018 0.07196913802648248 0.2967683292347536\n",
      "0.1708372305841825 0.24250949625272347\n",
      "5.853524999091084 4.123549862797464\n"
     ]
    }
   ],
   "source": [
    "a0 = res0.x[0]\n",
    "a1 = res1.x[0]\n",
    "a2 = res2.x[0]\n",
    "print(a0, a1, a2)\n",
    "print(a0 / a2, a1 / a2)\n",
    "print(a2 / a0, a2 / a1)"
   ]
  },
  {
   "cell_type": "code",
   "execution_count": 146,
   "metadata": {},
   "outputs": [
    {
     "name": "stdout",
     "output_type": "stream",
     "text": [
      "theta: 0.8522042436577324\n",
      "omega: 2.1468039542515727\n",
      "n: 0.0708482198262511\n"
     ]
    }
   ],
   "source": [
    "theta = np.arccos(1 - 2 * a0 / a2)\n",
    "omega = a0 / a2 * np.pi * 4\n",
    "n = a2 * 3 / 4 / np.pi\n",
    "print(\"theta:\", theta)\n",
    "print(\"omega:\", omega)\n",
    "print(\"n:\", n)"
   ]
  },
  {
   "cell_type": "code",
   "execution_count": 147,
   "metadata": {},
   "outputs": [
    {
     "name": "stdout",
     "output_type": "stream",
     "text": [
      "1.588645869600043\n"
     ]
    }
   ],
   "source": [
    "fpo = (1 - cos(2 * theta)) / 2 / (theta - np.sin(2 * theta) / 2)\n",
    "print(fpo)"
   ]
  },
  {
   "cell_type": "code",
   "execution_count": 148,
   "metadata": {},
   "outputs": [
    {
     "name": "stdout",
     "output_type": "stream",
     "text": [
      "3.529780409228429\n"
     ]
    }
   ],
   "source": [
    "fsp = 4 / (1 - cos(2 * theta))\n",
    "print(fsp)"
   ]
  },
  {
   "cell_type": "code",
   "execution_count": 149,
   "metadata": {},
   "outputs": [
    {
     "name": "stdout",
     "output_type": "stream",
     "text": [
      "5.607571067715893\n"
     ]
    }
   ],
   "source": [
    "fso = fsp * fpo\n",
    "print(fso)"
   ]
  },
  {
   "cell_type": "code",
   "execution_count": 125,
   "metadata": {},
   "outputs": [
    {
     "data": {
      "text/plain": [
       "[<matplotlib.lines.Line2D at 0x7f5d9c313470>]"
      ]
     },
     "execution_count": 125,
     "metadata": {},
     "output_type": "execute_result"
    }
   ],
   "source": [
    "x = np.arange(0.1, theta + 0.01, 0.01)\n",
    "f = (1 - np.cos(2 * x)) / 2 / (x - np.sin(2 * x) / 2)\n",
    "plt.plot(x, f)"
   ]
  },
  {
   "cell_type": "code",
   "execution_count": null,
   "metadata": {},
   "outputs": [],
   "source": []
  }
 ],
 "metadata": {
  "kernelspec": {
   "display_name": "Python 3",
   "language": "python",
   "name": "python3"
  },
  "language_info": {
   "codemirror_mode": {
    "name": "ipython",
    "version": 3
   },
   "file_extension": ".py",
   "mimetype": "text/x-python",
   "name": "python",
   "nbconvert_exporter": "python",
   "pygments_lexer": "ipython3",
   "version": "3.6.7"
  }
 },
 "nbformat": 4,
 "nbformat_minor": 1
}
